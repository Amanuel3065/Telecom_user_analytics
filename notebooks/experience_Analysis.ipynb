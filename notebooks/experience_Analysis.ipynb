{
 "cells": [
  {
   "cell_type": "code",
   "execution_count": 2,
   "metadata": {},
   "outputs": [],
   "source": [
    "import pandas as pd\n",
    "import numpy as np\n",
    "import plotly.graph_objects as go\n",
    "import plotly.express as px\n",
    "import seaborn as sns\n",
    "import matplotlib.pyplot as plt\n",
    "%matplotlib inline\n",
    "from statistics import *\n",
    "from sklearn import preprocessing\n",
    "from sklearn.cluster import KMeans\n",
    "from sklearn.preprocessing import StandardScaler\n",
    "import warnings\n",
    "warnings.filterwarnings(\"ignore\")"
   ]
  },
  {
   "cell_type": "code",
   "execution_count": 3,
   "metadata": {},
   "outputs": [
    {
     "data": {
      "text/html": [
       "<div>\n",
       "<style scoped>\n",
       "    .dataframe tbody tr th:only-of-type {\n",
       "        vertical-align: middle;\n",
       "    }\n",
       "\n",
       "    .dataframe tbody tr th {\n",
       "        vertical-align: top;\n",
       "    }\n",
       "\n",
       "    .dataframe thead th {\n",
       "        text-align: right;\n",
       "    }\n",
       "</style>\n",
       "<table border=\"1\" class=\"dataframe\">\n",
       "  <thead>\n",
       "    <tr style=\"text-align: right;\">\n",
       "      <th></th>\n",
       "      <th>Bearer Id</th>\n",
       "      <th>Start</th>\n",
       "      <th>Start ms</th>\n",
       "      <th>End</th>\n",
       "      <th>End ms</th>\n",
       "      <th>Dur. (ms)</th>\n",
       "      <th>IMSI</th>\n",
       "      <th>MSISDN/Number</th>\n",
       "      <th>IMEI</th>\n",
       "      <th>Last Location Name</th>\n",
       "      <th>...</th>\n",
       "      <th>Youtube DL (Bytes)</th>\n",
       "      <th>Youtube UL (Bytes)</th>\n",
       "      <th>Netflix DL (Bytes)</th>\n",
       "      <th>Netflix UL (Bytes)</th>\n",
       "      <th>Gaming DL (Bytes)</th>\n",
       "      <th>Gaming UL (Bytes)</th>\n",
       "      <th>Other DL (Bytes)</th>\n",
       "      <th>Other UL (Bytes)</th>\n",
       "      <th>Total UL (Bytes)</th>\n",
       "      <th>Total DL (Bytes)</th>\n",
       "    </tr>\n",
       "  </thead>\n",
       "  <tbody>\n",
       "    <tr>\n",
       "      <th>0</th>\n",
       "      <td>13114483460844900352</td>\n",
       "      <td>2019-04-04 12:01:18</td>\n",
       "      <td>770.0</td>\n",
       "      <td>2019-04-25 14:35:31</td>\n",
       "      <td>662.0</td>\n",
       "      <td>1823652.0</td>\n",
       "      <td>2.082014e+14</td>\n",
       "      <td>3.366496e+10</td>\n",
       "      <td>3.552121e+13</td>\n",
       "      <td>9164566995485190</td>\n",
       "      <td>...</td>\n",
       "      <td>15854611.0</td>\n",
       "      <td>2501332.0</td>\n",
       "      <td>8198936.0</td>\n",
       "      <td>9656251.0</td>\n",
       "      <td>278082303.0</td>\n",
       "      <td>14344150.0</td>\n",
       "      <td>171744450.0</td>\n",
       "      <td>8814393.0</td>\n",
       "      <td>36749741.0</td>\n",
       "      <td>308879636.0</td>\n",
       "    </tr>\n",
       "    <tr>\n",
       "      <th>1</th>\n",
       "      <td>13114483482878900224</td>\n",
       "      <td>2019-04-09 13:04:04</td>\n",
       "      <td>235.0</td>\n",
       "      <td>2019-04-25 08:15:48</td>\n",
       "      <td>606.0</td>\n",
       "      <td>1365104.0</td>\n",
       "      <td>2.082019e+14</td>\n",
       "      <td>3.368185e+10</td>\n",
       "      <td>3.579401e+13</td>\n",
       "      <td>L77566A</td>\n",
       "      <td>...</td>\n",
       "      <td>20247395.0</td>\n",
       "      <td>19111729.0</td>\n",
       "      <td>18338413.0</td>\n",
       "      <td>17227132.0</td>\n",
       "      <td>608750074.0</td>\n",
       "      <td>1170709.0</td>\n",
       "      <td>526904238.0</td>\n",
       "      <td>15055145.0</td>\n",
       "      <td>53800391.0</td>\n",
       "      <td>653384965.0</td>\n",
       "    </tr>\n",
       "    <tr>\n",
       "      <th>2</th>\n",
       "      <td>13114483484080500736</td>\n",
       "      <td>2019-04-09 17:42:11</td>\n",
       "      <td>1.0</td>\n",
       "      <td>2019-04-25 11:58:13</td>\n",
       "      <td>652.0</td>\n",
       "      <td>1361762.0</td>\n",
       "      <td>2.082003e+14</td>\n",
       "      <td>3.376063e+10</td>\n",
       "      <td>3.528151e+13</td>\n",
       "      <td>D42335A</td>\n",
       "      <td>...</td>\n",
       "      <td>19725661.0</td>\n",
       "      <td>14699576.0</td>\n",
       "      <td>17587794.0</td>\n",
       "      <td>6163408.0</td>\n",
       "      <td>229584621.0</td>\n",
       "      <td>395630.0</td>\n",
       "      <td>410692588.0</td>\n",
       "      <td>4215763.0</td>\n",
       "      <td>27883638.0</td>\n",
       "      <td>279807335.0</td>\n",
       "    </tr>\n",
       "    <tr>\n",
       "      <th>3</th>\n",
       "      <td>13114483485442799616</td>\n",
       "      <td>2019-04-10 00:31:25</td>\n",
       "      <td>486.0</td>\n",
       "      <td>2019-04-25 07:36:35</td>\n",
       "      <td>171.0</td>\n",
       "      <td>1321509.0</td>\n",
       "      <td>2.082014e+14</td>\n",
       "      <td>3.375034e+10</td>\n",
       "      <td>3.535661e+13</td>\n",
       "      <td>T21824A</td>\n",
       "      <td>...</td>\n",
       "      <td>21388122.0</td>\n",
       "      <td>15146643.0</td>\n",
       "      <td>13994646.0</td>\n",
       "      <td>1097942.0</td>\n",
       "      <td>799538153.0</td>\n",
       "      <td>10849722.0</td>\n",
       "      <td>749039933.0</td>\n",
       "      <td>12797283.0</td>\n",
       "      <td>43324218.0</td>\n",
       "      <td>846028530.0</td>\n",
       "    </tr>\n",
       "    <tr>\n",
       "      <th>4</th>\n",
       "      <td>13114483499480700928</td>\n",
       "      <td>2019-04-12 20:10:23</td>\n",
       "      <td>565.0</td>\n",
       "      <td>2019-04-25 10:40:32</td>\n",
       "      <td>954.0</td>\n",
       "      <td>1089009.0</td>\n",
       "      <td>2.082014e+14</td>\n",
       "      <td>3.369980e+10</td>\n",
       "      <td>3.540701e+13</td>\n",
       "      <td>D88865A</td>\n",
       "      <td>...</td>\n",
       "      <td>15259380.0</td>\n",
       "      <td>18962873.0</td>\n",
       "      <td>17124581.0</td>\n",
       "      <td>415218.0</td>\n",
       "      <td>527707248.0</td>\n",
       "      <td>3529801.0</td>\n",
       "      <td>550709500.0</td>\n",
       "      <td>13910322.0</td>\n",
       "      <td>38542814.0</td>\n",
       "      <td>569138589.0</td>\n",
       "    </tr>\n",
       "  </tbody>\n",
       "</table>\n",
       "<p>5 rows × 55 columns</p>\n",
       "</div>"
      ],
      "text/plain": [
       "              Bearer Id               Start  Start ms                 End  \\\n",
       "0  13114483460844900352 2019-04-04 12:01:18     770.0 2019-04-25 14:35:31   \n",
       "1  13114483482878900224 2019-04-09 13:04:04     235.0 2019-04-25 08:15:48   \n",
       "2  13114483484080500736 2019-04-09 17:42:11       1.0 2019-04-25 11:58:13   \n",
       "3  13114483485442799616 2019-04-10 00:31:25     486.0 2019-04-25 07:36:35   \n",
       "4  13114483499480700928 2019-04-12 20:10:23     565.0 2019-04-25 10:40:32   \n",
       "\n",
       "   End ms  Dur. (ms)          IMSI  MSISDN/Number          IMEI  \\\n",
       "0   662.0  1823652.0  2.082014e+14   3.366496e+10  3.552121e+13   \n",
       "1   606.0  1365104.0  2.082019e+14   3.368185e+10  3.579401e+13   \n",
       "2   652.0  1361762.0  2.082003e+14   3.376063e+10  3.528151e+13   \n",
       "3   171.0  1321509.0  2.082014e+14   3.375034e+10  3.535661e+13   \n",
       "4   954.0  1089009.0  2.082014e+14   3.369980e+10  3.540701e+13   \n",
       "\n",
       "  Last Location Name  ...  Youtube DL (Bytes)  Youtube UL (Bytes)  \\\n",
       "0   9164566995485190  ...          15854611.0           2501332.0   \n",
       "1            L77566A  ...          20247395.0          19111729.0   \n",
       "2            D42335A  ...          19725661.0          14699576.0   \n",
       "3            T21824A  ...          21388122.0          15146643.0   \n",
       "4            D88865A  ...          15259380.0          18962873.0   \n",
       "\n",
       "   Netflix DL (Bytes)  Netflix UL (Bytes)  Gaming DL (Bytes)  \\\n",
       "0           8198936.0           9656251.0        278082303.0   \n",
       "1          18338413.0          17227132.0        608750074.0   \n",
       "2          17587794.0           6163408.0        229584621.0   \n",
       "3          13994646.0           1097942.0        799538153.0   \n",
       "4          17124581.0            415218.0        527707248.0   \n",
       "\n",
       "   Gaming UL (Bytes)  Other DL (Bytes)  Other UL (Bytes)  Total UL (Bytes)  \\\n",
       "0         14344150.0       171744450.0         8814393.0        36749741.0   \n",
       "1          1170709.0       526904238.0        15055145.0        53800391.0   \n",
       "2           395630.0       410692588.0         4215763.0        27883638.0   \n",
       "3         10849722.0       749039933.0        12797283.0        43324218.0   \n",
       "4          3529801.0       550709500.0        13910322.0        38542814.0   \n",
       "\n",
       "   Total DL (Bytes)  \n",
       "0       308879636.0  \n",
       "1       653384965.0  \n",
       "2       279807335.0  \n",
       "3       846028530.0  \n",
       "4       569138589.0  \n",
       "\n",
       "[5 rows x 55 columns]"
      ]
     },
     "execution_count": 3,
     "metadata": {},
     "output_type": "execute_result"
    }
   ],
   "source": [
    "#Reading the data\n",
    "df=pd.read_excel(\"../data/Week1_challenge_data_source.xlsx\")\n",
    "df.head()"
   ]
  },
  {
   "cell_type": "code",
   "execution_count": 4,
   "metadata": {},
   "outputs": [
    {
     "data": {
      "text/plain": [
       "Index(['Bearer Id', 'Start', 'Start ms', 'End', 'End ms', 'Dur. (ms)', 'IMSI',\n",
       "       'MSISDN/Number', 'IMEI', 'Last Location Name', 'Avg RTT DL (ms)',\n",
       "       'Avg RTT UL (ms)', 'Avg Bearer TP DL (kbps)', 'Avg Bearer TP UL (kbps)',\n",
       "       'TCP DL Retrans. Vol (Bytes)', 'TCP UL Retrans. Vol (Bytes)',\n",
       "       'DL TP < 50 Kbps (%)', '50 Kbps < DL TP < 250 Kbps (%)',\n",
       "       '250 Kbps < DL TP < 1 Mbps (%)', 'DL TP > 1 Mbps (%)',\n",
       "       'UL TP < 10 Kbps (%)', '10 Kbps < UL TP < 50 Kbps (%)',\n",
       "       '50 Kbps < UL TP < 300 Kbps (%)', 'UL TP > 300 Kbps (%)',\n",
       "       'HTTP DL (Bytes)', 'HTTP UL (Bytes)', 'Activity Duration DL (ms)',\n",
       "       'Activity Duration UL (ms)', 'Dur. (ms).1', 'Handset Manufacturer',\n",
       "       'Handset Type', 'Nb of sec with 125000B < Vol DL',\n",
       "       'Nb of sec with 1250B < Vol UL < 6250B',\n",
       "       'Nb of sec with 31250B < Vol DL < 125000B',\n",
       "       'Nb of sec with 37500B < Vol UL',\n",
       "       'Nb of sec with 6250B < Vol DL < 31250B',\n",
       "       'Nb of sec with 6250B < Vol UL < 37500B',\n",
       "       'Nb of sec with Vol DL < 6250B', 'Nb of sec with Vol UL < 1250B',\n",
       "       'Social Media DL (Bytes)', 'Social Media UL (Bytes)',\n",
       "       'Google DL (Bytes)', 'Google UL (Bytes)', 'Email DL (Bytes)',\n",
       "       'Email UL (Bytes)', 'Youtube DL (Bytes)', 'Youtube UL (Bytes)',\n",
       "       'Netflix DL (Bytes)', 'Netflix UL (Bytes)', 'Gaming DL (Bytes)',\n",
       "       'Gaming UL (Bytes)', 'Other DL (Bytes)', 'Other UL (Bytes)',\n",
       "       'Total UL (Bytes)', 'Total DL (Bytes)'],\n",
       "      dtype='object')"
      ]
     },
     "execution_count": 4,
     "metadata": {},
     "output_type": "execute_result"
    }
   ],
   "source": [
    "df.columns"
   ]
  },
  {
   "cell_type": "code",
   "execution_count": 5,
   "metadata": {},
   "outputs": [
    {
     "data": {
      "text/html": [
       "<div>\n",
       "<style scoped>\n",
       "    .dataframe tbody tr th:only-of-type {\n",
       "        vertical-align: middle;\n",
       "    }\n",
       "\n",
       "    .dataframe tbody tr th {\n",
       "        vertical-align: top;\n",
       "    }\n",
       "\n",
       "    .dataframe thead th {\n",
       "        text-align: right;\n",
       "    }\n",
       "</style>\n",
       "<table border=\"1\" class=\"dataframe\">\n",
       "  <thead>\n",
       "    <tr style=\"text-align: right;\">\n",
       "      <th></th>\n",
       "      <th>Bearer Id</th>\n",
       "      <th>Start</th>\n",
       "      <th>Start ms</th>\n",
       "      <th>End</th>\n",
       "      <th>End ms</th>\n",
       "      <th>Dur. (ms)</th>\n",
       "      <th>IMSI</th>\n",
       "      <th>MSISDN/Number</th>\n",
       "      <th>IMEI</th>\n",
       "      <th>Last Location Name</th>\n",
       "      <th>...</th>\n",
       "      <th>Youtube DL (Bytes)</th>\n",
       "      <th>Youtube UL (Bytes)</th>\n",
       "      <th>Netflix DL (Bytes)</th>\n",
       "      <th>Netflix UL (Bytes)</th>\n",
       "      <th>Gaming DL (Bytes)</th>\n",
       "      <th>Gaming UL (Bytes)</th>\n",
       "      <th>Other DL (Bytes)</th>\n",
       "      <th>Other UL (Bytes)</th>\n",
       "      <th>Total UL (Bytes)</th>\n",
       "      <th>Total DL (Bytes)</th>\n",
       "    </tr>\n",
       "  </thead>\n",
       "  <tbody>\n",
       "    <tr>\n",
       "      <th>0</th>\n",
       "      <td>13114483460844900352</td>\n",
       "      <td>2019-04-04 12:01:18</td>\n",
       "      <td>770.0</td>\n",
       "      <td>2019-04-25 14:35:31</td>\n",
       "      <td>662.0</td>\n",
       "      <td>1823652.0</td>\n",
       "      <td>2.082014e+14</td>\n",
       "      <td>3.366496e+10</td>\n",
       "      <td>3.552121e+13</td>\n",
       "      <td>9164566995485190</td>\n",
       "      <td>...</td>\n",
       "      <td>15854611.0</td>\n",
       "      <td>2501332.0</td>\n",
       "      <td>8198936.0</td>\n",
       "      <td>9656251.0</td>\n",
       "      <td>278082303.0</td>\n",
       "      <td>14344150.0</td>\n",
       "      <td>171744450.0</td>\n",
       "      <td>8814393.0</td>\n",
       "      <td>36749741.0</td>\n",
       "      <td>308879636.0</td>\n",
       "    </tr>\n",
       "    <tr>\n",
       "      <th>1</th>\n",
       "      <td>13114483482878900224</td>\n",
       "      <td>2019-04-09 13:04:04</td>\n",
       "      <td>235.0</td>\n",
       "      <td>2019-04-25 08:15:48</td>\n",
       "      <td>606.0</td>\n",
       "      <td>1365104.0</td>\n",
       "      <td>2.082019e+14</td>\n",
       "      <td>3.368185e+10</td>\n",
       "      <td>3.579401e+13</td>\n",
       "      <td>L77566A</td>\n",
       "      <td>...</td>\n",
       "      <td>20247395.0</td>\n",
       "      <td>19111729.0</td>\n",
       "      <td>18338413.0</td>\n",
       "      <td>17227132.0</td>\n",
       "      <td>608750074.0</td>\n",
       "      <td>1170709.0</td>\n",
       "      <td>526904238.0</td>\n",
       "      <td>15055145.0</td>\n",
       "      <td>53800391.0</td>\n",
       "      <td>653384965.0</td>\n",
       "    </tr>\n",
       "    <tr>\n",
       "      <th>2</th>\n",
       "      <td>13114483484080500736</td>\n",
       "      <td>2019-04-09 17:42:11</td>\n",
       "      <td>1.0</td>\n",
       "      <td>2019-04-25 11:58:13</td>\n",
       "      <td>652.0</td>\n",
       "      <td>1361762.0</td>\n",
       "      <td>2.082003e+14</td>\n",
       "      <td>3.376063e+10</td>\n",
       "      <td>3.528151e+13</td>\n",
       "      <td>D42335A</td>\n",
       "      <td>...</td>\n",
       "      <td>19725661.0</td>\n",
       "      <td>14699576.0</td>\n",
       "      <td>17587794.0</td>\n",
       "      <td>6163408.0</td>\n",
       "      <td>229584621.0</td>\n",
       "      <td>395630.0</td>\n",
       "      <td>410692588.0</td>\n",
       "      <td>4215763.0</td>\n",
       "      <td>27883638.0</td>\n",
       "      <td>279807335.0</td>\n",
       "    </tr>\n",
       "    <tr>\n",
       "      <th>3</th>\n",
       "      <td>13114483485442799616</td>\n",
       "      <td>2019-04-10 00:31:25</td>\n",
       "      <td>486.0</td>\n",
       "      <td>2019-04-25 07:36:35</td>\n",
       "      <td>171.0</td>\n",
       "      <td>1321509.0</td>\n",
       "      <td>2.082014e+14</td>\n",
       "      <td>3.375034e+10</td>\n",
       "      <td>3.535661e+13</td>\n",
       "      <td>T21824A</td>\n",
       "      <td>...</td>\n",
       "      <td>21388122.0</td>\n",
       "      <td>15146643.0</td>\n",
       "      <td>13994646.0</td>\n",
       "      <td>1097942.0</td>\n",
       "      <td>799538153.0</td>\n",
       "      <td>10849722.0</td>\n",
       "      <td>749039933.0</td>\n",
       "      <td>12797283.0</td>\n",
       "      <td>43324218.0</td>\n",
       "      <td>846028530.0</td>\n",
       "    </tr>\n",
       "    <tr>\n",
       "      <th>4</th>\n",
       "      <td>13114483499480700928</td>\n",
       "      <td>2019-04-12 20:10:23</td>\n",
       "      <td>565.0</td>\n",
       "      <td>2019-04-25 10:40:32</td>\n",
       "      <td>954.0</td>\n",
       "      <td>1089009.0</td>\n",
       "      <td>2.082014e+14</td>\n",
       "      <td>3.369980e+10</td>\n",
       "      <td>3.540701e+13</td>\n",
       "      <td>D88865A</td>\n",
       "      <td>...</td>\n",
       "      <td>15259380.0</td>\n",
       "      <td>18962873.0</td>\n",
       "      <td>17124581.0</td>\n",
       "      <td>415218.0</td>\n",
       "      <td>527707248.0</td>\n",
       "      <td>3529801.0</td>\n",
       "      <td>550709500.0</td>\n",
       "      <td>13910322.0</td>\n",
       "      <td>38542814.0</td>\n",
       "      <td>569138589.0</td>\n",
       "    </tr>\n",
       "  </tbody>\n",
       "</table>\n",
       "<p>5 rows × 55 columns</p>\n",
       "</div>"
      ],
      "text/plain": [
       "              Bearer Id               Start  Start ms                 End  \\\n",
       "0  13114483460844900352 2019-04-04 12:01:18     770.0 2019-04-25 14:35:31   \n",
       "1  13114483482878900224 2019-04-09 13:04:04     235.0 2019-04-25 08:15:48   \n",
       "2  13114483484080500736 2019-04-09 17:42:11       1.0 2019-04-25 11:58:13   \n",
       "3  13114483485442799616 2019-04-10 00:31:25     486.0 2019-04-25 07:36:35   \n",
       "4  13114483499480700928 2019-04-12 20:10:23     565.0 2019-04-25 10:40:32   \n",
       "\n",
       "   End ms  Dur. (ms)          IMSI  MSISDN/Number          IMEI  \\\n",
       "0   662.0  1823652.0  2.082014e+14   3.366496e+10  3.552121e+13   \n",
       "1   606.0  1365104.0  2.082019e+14   3.368185e+10  3.579401e+13   \n",
       "2   652.0  1361762.0  2.082003e+14   3.376063e+10  3.528151e+13   \n",
       "3   171.0  1321509.0  2.082014e+14   3.375034e+10  3.535661e+13   \n",
       "4   954.0  1089009.0  2.082014e+14   3.369980e+10  3.540701e+13   \n",
       "\n",
       "  Last Location Name  ...  Youtube DL (Bytes)  Youtube UL (Bytes)  \\\n",
       "0   9164566995485190  ...          15854611.0           2501332.0   \n",
       "1            L77566A  ...          20247395.0          19111729.0   \n",
       "2            D42335A  ...          19725661.0          14699576.0   \n",
       "3            T21824A  ...          21388122.0          15146643.0   \n",
       "4            D88865A  ...          15259380.0          18962873.0   \n",
       "\n",
       "   Netflix DL (Bytes)  Netflix UL (Bytes)  Gaming DL (Bytes)  \\\n",
       "0           8198936.0           9656251.0        278082303.0   \n",
       "1          18338413.0          17227132.0        608750074.0   \n",
       "2          17587794.0           6163408.0        229584621.0   \n",
       "3          13994646.0           1097942.0        799538153.0   \n",
       "4          17124581.0            415218.0        527707248.0   \n",
       "\n",
       "   Gaming UL (Bytes)  Other DL (Bytes)  Other UL (Bytes)  Total UL (Bytes)  \\\n",
       "0         14344150.0       171744450.0         8814393.0        36749741.0   \n",
       "1          1170709.0       526904238.0        15055145.0        53800391.0   \n",
       "2           395630.0       410692588.0         4215763.0        27883638.0   \n",
       "3         10849722.0       749039933.0        12797283.0        43324218.0   \n",
       "4          3529801.0       550709500.0        13910322.0        38542814.0   \n",
       "\n",
       "   Total DL (Bytes)  \n",
       "0       308879636.0  \n",
       "1       653384965.0  \n",
       "2       279807335.0  \n",
       "3       846028530.0  \n",
       "4       569138589.0  \n",
       "\n",
       "[5 rows x 55 columns]"
      ]
     },
     "execution_count": 5,
     "metadata": {},
     "output_type": "execute_result"
    }
   ],
   "source": [
    "#make a deep copy to work on\n",
    "df_exp = df.copy(deep=True)\n",
    "df_exp.head()"
   ]
  },
  {
   "cell_type": "markdown",
   "metadata": {},
   "source": [
    "# Experience Analytics\n",
    "#### Traking and evaluation of customers' experience can help organizations to optimize products and services.\n",
    "#### Here, user experience is related to network parameter performances and the customers' device characteristics.\n",
    "#### From our dataset, the following are used to conduct a deep user experience analysis.\n",
    "* TCP retransmission,\n",
    "* RTT, \n",
    "* Average throughput, and \n",
    "* handset type\n"
   ]
  },
  {
   "cell_type": "code",
   "execution_count": 6,
   "metadata": {},
   "outputs": [],
   "source": [
    "df_exp = df_exp[['MSISDN/Number','Handset Type','Avg RTT DL (ms)','Avg RTT UL (ms)',\n",
    "                 'TCP DL Retrans. Vol (Bytes)','TCP UL Retrans. Vol (Bytes)',\n",
    "                 'Avg Bearer TP DL (kbps)','Avg Bearer TP UL (kbps)']]"
   ]
  },
  {
   "cell_type": "code",
   "execution_count": 7,
   "metadata": {},
   "outputs": [
    {
     "data": {
      "text/html": [
       "<div>\n",
       "<style scoped>\n",
       "    .dataframe tbody tr th:only-of-type {\n",
       "        vertical-align: middle;\n",
       "    }\n",
       "\n",
       "    .dataframe tbody tr th {\n",
       "        vertical-align: top;\n",
       "    }\n",
       "\n",
       "    .dataframe thead th {\n",
       "        text-align: right;\n",
       "    }\n",
       "</style>\n",
       "<table border=\"1\" class=\"dataframe\">\n",
       "  <thead>\n",
       "    <tr style=\"text-align: right;\">\n",
       "      <th></th>\n",
       "      <th>MSISDN/Number</th>\n",
       "      <th>Handset Type</th>\n",
       "      <th>Avg RTT DL (ms)</th>\n",
       "      <th>Avg RTT UL (ms)</th>\n",
       "      <th>TCP DL Retrans. Vol (Bytes)</th>\n",
       "      <th>TCP UL Retrans. Vol (Bytes)</th>\n",
       "      <th>Avg Bearer TP DL (kbps)</th>\n",
       "      <th>Avg Bearer TP UL (kbps)</th>\n",
       "    </tr>\n",
       "  </thead>\n",
       "  <tbody>\n",
       "    <tr>\n",
       "      <th>0</th>\n",
       "      <td>3.366496e+10</td>\n",
       "      <td>Samsung Galaxy A5 Sm-A520F</td>\n",
       "      <td>42.0</td>\n",
       "      <td>5.0</td>\n",
       "      <td>NaN</td>\n",
       "      <td>NaN</td>\n",
       "      <td>23.0</td>\n",
       "      <td>44.0</td>\n",
       "    </tr>\n",
       "    <tr>\n",
       "      <th>1</th>\n",
       "      <td>3.368185e+10</td>\n",
       "      <td>Samsung Galaxy J5 (Sm-J530)</td>\n",
       "      <td>65.0</td>\n",
       "      <td>5.0</td>\n",
       "      <td>NaN</td>\n",
       "      <td>NaN</td>\n",
       "      <td>16.0</td>\n",
       "      <td>26.0</td>\n",
       "    </tr>\n",
       "    <tr>\n",
       "      <th>2</th>\n",
       "      <td>3.376063e+10</td>\n",
       "      <td>Samsung Galaxy A8 (2018)</td>\n",
       "      <td>NaN</td>\n",
       "      <td>NaN</td>\n",
       "      <td>NaN</td>\n",
       "      <td>NaN</td>\n",
       "      <td>6.0</td>\n",
       "      <td>9.0</td>\n",
       "    </tr>\n",
       "    <tr>\n",
       "      <th>3</th>\n",
       "      <td>3.375034e+10</td>\n",
       "      <td>undefined</td>\n",
       "      <td>NaN</td>\n",
       "      <td>NaN</td>\n",
       "      <td>NaN</td>\n",
       "      <td>NaN</td>\n",
       "      <td>44.0</td>\n",
       "      <td>44.0</td>\n",
       "    </tr>\n",
       "    <tr>\n",
       "      <th>4</th>\n",
       "      <td>3.369980e+10</td>\n",
       "      <td>Samsung Sm-G390F</td>\n",
       "      <td>NaN</td>\n",
       "      <td>NaN</td>\n",
       "      <td>NaN</td>\n",
       "      <td>NaN</td>\n",
       "      <td>6.0</td>\n",
       "      <td>9.0</td>\n",
       "    </tr>\n",
       "  </tbody>\n",
       "</table>\n",
       "</div>"
      ],
      "text/plain": [
       "   MSISDN/Number                 Handset Type  Avg RTT DL (ms)  \\\n",
       "0   3.366496e+10   Samsung Galaxy A5 Sm-A520F             42.0   \n",
       "1   3.368185e+10  Samsung Galaxy J5 (Sm-J530)             65.0   \n",
       "2   3.376063e+10     Samsung Galaxy A8 (2018)              NaN   \n",
       "3   3.375034e+10                    undefined              NaN   \n",
       "4   3.369980e+10             Samsung Sm-G390F              NaN   \n",
       "\n",
       "   Avg RTT UL (ms)  TCP DL Retrans. Vol (Bytes)  TCP UL Retrans. Vol (Bytes)  \\\n",
       "0              5.0                          NaN                          NaN   \n",
       "1              5.0                          NaN                          NaN   \n",
       "2              NaN                          NaN                          NaN   \n",
       "3              NaN                          NaN                          NaN   \n",
       "4              NaN                          NaN                          NaN   \n",
       "\n",
       "   Avg Bearer TP DL (kbps)  Avg Bearer TP UL (kbps)  \n",
       "0                     23.0                     44.0  \n",
       "1                     16.0                     26.0  \n",
       "2                      6.0                      9.0  \n",
       "3                     44.0                     44.0  \n",
       "4                      6.0                      9.0  "
      ]
     },
     "execution_count": 7,
     "metadata": {},
     "output_type": "execute_result"
    }
   ],
   "source": [
    "df_exp.head()"
   ]
  },
  {
   "cell_type": "markdown",
   "metadata": {},
   "source": [
    "### Missing values"
   ]
  },
  {
   "cell_type": "code",
   "execution_count": 8,
   "metadata": {},
   "outputs": [
    {
     "data": {
      "text/plain": [
       "MSISDN/Number                   1066\n",
       "Handset Type                     572\n",
       "Avg RTT DL (ms)                27829\n",
       "Avg RTT UL (ms)                27812\n",
       "TCP DL Retrans. Vol (Bytes)    88146\n",
       "TCP UL Retrans. Vol (Bytes)    96649\n",
       "Avg Bearer TP DL (kbps)            1\n",
       "Avg Bearer TP UL (kbps)            1\n",
       "dtype: int64"
      ]
     },
     "execution_count": 8,
     "metadata": {},
     "output_type": "execute_result"
    }
   ],
   "source": [
    "# missing colum names and there count\n",
    "df_exp.isnull().sum(axis=0)"
   ]
  },
  {
   "cell_type": "code",
   "execution_count": 9,
   "metadata": {},
   "outputs": [
    {
     "data": {
      "text/plain": [
       "MSISDN/Number                  0\n",
       "Handset Type                   0\n",
       "Avg RTT DL (ms)                0\n",
       "Avg RTT UL (ms)                0\n",
       "TCP DL Retrans. Vol (Bytes)    0\n",
       "TCP UL Retrans. Vol (Bytes)    0\n",
       "Avg Bearer TP DL (kbps)        0\n",
       "Avg Bearer TP UL (kbps)        0\n",
       "dtype: int64"
      ]
     },
     "execution_count": 9,
     "metadata": {},
     "output_type": "execute_result"
    }
   ],
   "source": [
    "# Filling the missing values using Mean\n",
    "\n",
    "#RTT null values fill with mean\n",
    "df_exp['Avg RTT DL (ms)'].fillna(value=df_exp['Avg RTT DL (ms)'].mean(), inplace=True)\n",
    "df_exp['Avg RTT UL (ms)'].fillna(value=df_exp['Avg RTT UL (ms)'].mean(), inplace=True)\n",
    "\n",
    "# TCP retransmission null values fill with mean\n",
    "df_exp['TCP DL Retrans. Vol (Bytes)'].fillna(value=df_exp['TCP DL Retrans. Vol (Bytes)'].mean(), inplace=True)\n",
    "df_exp['TCP UL Retrans. Vol (Bytes)'].fillna(value=df_exp['TCP UL Retrans. Vol (Bytes)'].mean(), inplace=True)\n",
    "\n",
    "# Avg Bearer TP null values filled with mean\n",
    "df_exp['Avg Bearer TP DL (kbps)'].fillna(value=df_exp['Avg Bearer TP DL (kbps)'].mean(), inplace=True)\n",
    "df_exp['Avg Bearer TP UL (kbps)'].fillna(value=df_exp['Avg Bearer TP UL (kbps)'].mean(), inplace=True)\n",
    "\n",
    "# Catagorical variabels null values filled with mode\n",
    "df_exp['Handset Type'].fillna(value=df_exp['Handset Type'].mode().iloc[0], inplace=True)\n",
    "df_exp['MSISDN/Number'].fillna(value=df_exp['MSISDN/Number'].mode().iloc[0], inplace=True)\n",
    "\n",
    "\n",
    "# now look at missing values after filling\n",
    "df_exp.isnull().sum(axis=0)\n",
    "\n"
   ]
  },
  {
   "cell_type": "markdown",
   "metadata": {},
   "source": [
    "### Outliers"
   ]
  },
  {
   "cell_type": "code",
   "execution_count": 12,
   "metadata": {},
   "outputs": [
    {
     "data": {
      "image/png": "[encoded data removed]",
      "text/plain": [
       "<Figure size 864x504 with 1 Axes>"
      ]
     },
     "metadata": {
      "needs_background": "light"
     },
     "output_type": "display_data"
    }
   ],
   "source": [
    "plt.figure(figsize=(12, 7))\n",
    "sns.boxplot(data=df_exp, x='Avg RTT DL (ms)')\n",
    "plt.title(\"box plot for Avg RTT DL (ms)\", size=20)\n",
    "plt.show()"
   ]
  },
  {
   "cell_type": "code",
   "execution_count": 13,
   "metadata": {},
   "outputs": [
    {
     "data": {
      "image/png": "[encoded data removed]",
      "text/plain": [
       "<Figure size 864x504 with 1 Axes>"
      ]
     },
     "metadata": {
      "needs_background": "light"
     },
     "output_type": "display_data"
    }
   ],
   "source": [
    "plt.figure(figsize=(12, 7))\n",
    "sns.boxplot(data=df_exp, x='Avg RTT UL (ms)')\n",
    "plt.title(\"box plot for Avg RTT UL (ms)\", size=20)\n",
    "plt.show()"
   ]
  },
  {
   "cell_type": "code",
   "execution_count": 14,
   "metadata": {},
   "outputs": [
    {
     "data": {
      "image/png": "[encoded data removed]",
      "text/plain": [
       "<Figure size 864x504 with 1 Axes>"
      ]
     },
     "metadata": {
      "needs_background": "light"
     },
     "output_type": "display_data"
    }
   ],
   "source": [
    "plt.figure(figsize=(12, 7))\n",
    "sns.boxplot(data=df_exp, x='TCP DL Retrans. Vol (Bytes)')\n",
    "plt.title(\"box plot for TCP DL Retrans. Vol (Bytes)\", size=20)\n",
    "plt.show()"
   ]
  },
  {
   "cell_type": "code",
   "execution_count": 15,
   "metadata": {},
   "outputs": [
    {
     "data": {
      "image/png": "[encoded data removed]",
      "text/plain": [
       "<Figure size 864x504 with 1 Axes>"
      ]
     },
     "metadata": {
      "needs_background": "light"
     },
     "output_type": "display_data"
    }
   ],
   "source": [
    "plt.figure(figsize=(12, 7))\n",
    "sns.boxplot(data=df_exp, x='TCP UL Retrans. Vol (Bytes)')\n",
    "plt.title(\"box plot for TCP UL Retrans. Vol (Bytes)\", size=20)\n",
    "plt.show()"
   ]
  },
  {
   "cell_type": "code",
   "execution_count": 16,
   "metadata": {},
   "outputs": [
    {
     "data": {
      "image/png": "[encoded data removed]",
      "text/plain": [
       "<Figure size 864x504 with 1 Axes>"
      ]
     },
     "metadata": {
      "needs_background": "light"
     },
     "output_type": "display_data"
    }
   ],
   "source": [
    "plt.figure(figsize=(12, 7))\n",
    "sns.boxplot(data=df_exp, x='Avg Bearer TP UL (kbps)')\n",
    "plt.title(\"box plot for Avg Bearer TP UL (kbps) \", size=20)\n",
    "plt.show()"
   ]
  },
  {
   "cell_type": "code",
   "execution_count": 17,
   "metadata": {},
   "outputs": [
    {
     "data": {
      "image/png": "[encoded data removed]",
      "text/plain": [
       "<Figure size 864x504 with 1 Axes>"
      ]
     },
     "metadata": {
      "needs_background": "light"
     },
     "output_type": "display_data"
    }
   ],
   "source": [
    "plt.figure(figsize=(12, 7))\n",
    "sns.boxplot(data=df_exp, x='Avg Bearer TP DL (kbps)')\n",
    "plt.title(\"box plot for Avg Bearer TP DL (kbps)\", size=20)\n",
    "plt.show()"
   ]
  },
  {
   "cell_type": "markdown",
   "metadata": {},
   "source": [
    "#### Fill the outliers"
   ]
  },
  {
   "cell_type": "code",
   "execution_count": 18,
   "metadata": {},
   "outputs": [
    {
     "data": {
      "text/plain": [
       "count    150001.000000\n",
       "mean        109.795706\n",
       "std         559.342620\n",
       "min           0.000000\n",
       "25%          35.000000\n",
       "50%          54.000000\n",
       "75%         109.795706\n",
       "max       96923.000000\n",
       "Name: Avg RTT DL (ms), dtype: float64"
      ]
     },
     "execution_count": 18,
     "metadata": {},
     "output_type": "execute_result"
    }
   ],
   "source": [
    "#Printing the median and percentile of Avg RTT DL (ms)\n",
    "df_exp['Avg RTT DL (ms)'].describe()"
   ]
  },
  {
   "cell_type": "code",
   "execution_count": 19,
   "metadata": {},
   "outputs": [],
   "source": [
    "#Replacing outliers with median\n",
    "# max = 96,923\n",
    "# median = 54\n",
    "# Fix or replace 90%(quantile)\n",
    "#Replacing outliers with median\n",
    "df_exp['Avg RTT DL (ms)'] = np.where(df_exp['Avg RTT DL (ms)'] > 220, 54, df_exp['Avg RTT DL (ms)'])"
   ]
  },
  {
   "cell_type": "code",
   "execution_count": 22,
   "metadata": {},
   "outputs": [
    {
     "data": {
      "text/plain": [
       "count    150001.000000\n",
       "mean         64.169484\n",
       "std          37.817597\n",
       "min           0.000000\n",
       "25%          35.000000\n",
       "50%          54.000000\n",
       "75%         104.000000\n",
       "max         220.000000\n",
       "Name: Avg RTT DL (ms), dtype: float64"
      ]
     },
     "execution_count": 22,
     "metadata": {},
     "output_type": "execute_result"
    }
   ],
   "source": [
    "#after fixing outliers, distribution\n",
    "df_exp['Avg RTT DL (ms)'].describe()"
   ]
  },
  {
   "cell_type": "code",
   "execution_count": 23,
   "metadata": {},
   "outputs": [
    {
     "data": {
      "image/png": "[encoded data removed]",
      "text/plain": [
       "<Figure size 864x504 with 1 Axes>"
      ]
     },
     "metadata": {
      "needs_background": "light"
     },
     "output_type": "display_data"
    }
   ],
   "source": [
    "#box plot after fixing outliers\n",
    "plt.figure(figsize=(12, 7))\n",
    "sns.boxplot(data=df_exp, x='Avg RTT DL (ms)')\n",
    "plt.title(\"box plot for Avg RTT DL (ms)\", size=20)\n",
    "plt.show()"
   ]
  },
  {
   "cell_type": "code",
   "execution_count": 25,
   "metadata": {},
   "outputs": [
    {
     "data": {
      "text/plain": [
       "count    150001.000000\n",
       "mean         17.662883\n",
       "std          76.529933\n",
       "min           0.000000\n",
       "25%           3.000000\n",
       "50%           7.000000\n",
       "75%          17.662883\n",
       "max        7120.000000\n",
       "Name: Avg RTT UL (ms), dtype: float64"
      ]
     },
     "execution_count": 25,
     "metadata": {},
     "output_type": "execute_result"
    }
   ],
   "source": [
    "#Similarily for all parameters\n",
    "\n",
    "df_exp['Avg RTT UL (ms)'].describe()"
   ]
  },
  {
   "cell_type": "code",
   "execution_count": 26,
   "metadata": {},
   "outputs": [],
   "source": [
    "#Replacing outliers with median\n",
    "# max = 7120\n",
    "# median = 7\n",
    "# Fix or replace 90%(quantile)\n",
    "#Replacing outliers with median\n",
    "df_exp['Avg RTT UL (ms)'] = np.where(df_exp['Avg RTT UL (ms)'] > 40, 7, df_exp['Avg RTT UL (ms)'])"
   ]
  },
  {
   "cell_type": "code",
   "execution_count": 27,
   "metadata": {},
   "outputs": [
    {
     "data": {
      "text/plain": [
       "count    1.500010e+05\n",
       "mean     2.080991e+07\n",
       "std      1.172356e+08\n",
       "min      2.000000e+00\n",
       "25%      1.332932e+06\n",
       "50%      2.080991e+07\n",
       "75%      2.080991e+07\n",
       "max      4.294426e+09\n",
       "Name: TCP DL Retrans. Vol (Bytes), dtype: float64"
      ]
     },
     "execution_count": 27,
     "metadata": {},
     "output_type": "execute_result"
    }
   ],
   "source": [
    "#Printing the median and percentile of TCP DL Retrans. Vol (Bytes)\n",
    "df_exp['TCP DL Retrans. Vol (Bytes)'].describe()"
   ]
  },
  {
   "cell_type": "code",
   "execution_count": 28,
   "metadata": {},
   "outputs": [],
   "source": [
    "# Replacing outliers with median\n",
    "# max = 4.294426e+09\n",
    "# median = 2.080991e+07\n",
    "# Fix or replace 90%(quantile)\n",
    "#Replacing outliers with median\n",
    "df_exp['TCP DL Retrans. Vol (Bytes)'] = np.where(df_exp['TCP DL Retrans. Vol (Bytes)'] > 20809914.27034193, 20809914.27034193, df_exp['TCP DL Retrans. Vol (Bytes)'])"
   ]
  },
  {
   "cell_type": "code",
   "execution_count": 29,
   "metadata": {},
   "outputs": [
    {
     "data": {
      "text/plain": [
       "count    1.500010e+05\n",
       "mean     7.596587e+05\n",
       "std      1.577616e+07\n",
       "min      1.000000e+00\n",
       "25%      6.300900e+04\n",
       "50%      7.596587e+05\n",
       "75%      7.596587e+05\n",
       "max      2.908226e+09\n",
       "Name: TCP UL Retrans. Vol (Bytes), dtype: float64"
      ]
     },
     "execution_count": 29,
     "metadata": {},
     "output_type": "execute_result"
    }
   ],
   "source": [
    "#Printing the median and percentile of TCP UL Retrans. Vol (Bytes)\n",
    "df_exp['TCP UL Retrans. Vol (Bytes)'].describe()"
   ]
  },
  {
   "cell_type": "code",
   "execution_count": 30,
   "metadata": {},
   "outputs": [],
   "source": [
    "# Replacing outliers with median\n",
    "# max = 2.908226e+09\n",
    "# median = 7.596587e+05\n",
    "# Fix or replace 90%(quantile)\n",
    "df_exp['TCP UL Retrans. Vol (Bytes)'] = np.where(df_exp['TCP UL Retrans. Vol (Bytes)'] > 759658.6648110661, 759658.6648110661, df_exp['TCP UL Retrans. Vol (Bytes)'])"
   ]
  },
  {
   "cell_type": "code",
   "execution_count": 31,
   "metadata": {},
   "outputs": [
    {
     "data": {
      "text/html": [
       "<div>\n",
       "<style scoped>\n",
       "    .dataframe tbody tr th:only-of-type {\n",
       "        vertical-align: middle;\n",
       "    }\n",
       "\n",
       "    .dataframe tbody tr th {\n",
       "        vertical-align: top;\n",
       "    }\n",
       "\n",
       "    .dataframe thead th {\n",
       "        text-align: right;\n",
       "    }\n",
       "</style>\n",
       "<table border=\"1\" class=\"dataframe\">\n",
       "  <thead>\n",
       "    <tr style=\"text-align: right;\">\n",
       "      <th></th>\n",
       "      <th>MSISDN/Number</th>\n",
       "      <th>Avg RTT DL (ms)</th>\n",
       "      <th>Avg RTT UL (ms)</th>\n",
       "      <th>TCP DL Retrans. Vol (Bytes)</th>\n",
       "      <th>TCP UL Retrans. Vol (Bytes)</th>\n",
       "      <th>Avg Bearer TP DL (kbps)</th>\n",
       "      <th>Avg Bearer TP UL (kbps)</th>\n",
       "    </tr>\n",
       "  </thead>\n",
       "  <tbody>\n",
       "    <tr>\n",
       "      <th>count</th>\n",
       "      <td>1.500010e+05</td>\n",
       "      <td>150001.000000</td>\n",
       "      <td>150001.000000</td>\n",
       "      <td>1.500010e+05</td>\n",
       "      <td>150001.000000</td>\n",
       "      <td>150001.000000</td>\n",
       "      <td>150001.000000</td>\n",
       "    </tr>\n",
       "    <tr>\n",
       "      <th>mean</th>\n",
       "      <td>4.182414e+10</td>\n",
       "      <td>64.169484</td>\n",
       "      <td>10.159280</td>\n",
       "      <td>1.375607e+07</td>\n",
       "      <td>525524.011857</td>\n",
       "      <td>13300.045927</td>\n",
       "      <td>1770.428647</td>\n",
       "    </tr>\n",
       "    <tr>\n",
       "      <th>std</th>\n",
       "      <td>2.438731e+12</td>\n",
       "      <td>37.817597</td>\n",
       "      <td>8.716573</td>\n",
       "      <td>9.343134e+06</td>\n",
       "      <td>335154.724475</td>\n",
       "      <td>23971.798635</td>\n",
       "      <td>4625.340082</td>\n",
       "    </tr>\n",
       "    <tr>\n",
       "      <th>min</th>\n",
       "      <td>3.360100e+10</td>\n",
       "      <td>0.000000</td>\n",
       "      <td>0.000000</td>\n",
       "      <td>2.000000e+00</td>\n",
       "      <td>1.000000</td>\n",
       "      <td>0.000000</td>\n",
       "      <td>0.000000</td>\n",
       "    </tr>\n",
       "    <tr>\n",
       "      <th>25%</th>\n",
       "      <td>3.365094e+10</td>\n",
       "      <td>35.000000</td>\n",
       "      <td>3.000000</td>\n",
       "      <td>1.332932e+06</td>\n",
       "      <td>63009.000000</td>\n",
       "      <td>43.000000</td>\n",
       "      <td>47.000000</td>\n",
       "    </tr>\n",
       "    <tr>\n",
       "      <th>50%</th>\n",
       "      <td>3.366361e+10</td>\n",
       "      <td>54.000000</td>\n",
       "      <td>7.000000</td>\n",
       "      <td>2.080991e+07</td>\n",
       "      <td>759658.664811</td>\n",
       "      <td>63.000000</td>\n",
       "      <td>63.000000</td>\n",
       "    </tr>\n",
       "    <tr>\n",
       "      <th>75%</th>\n",
       "      <td>3.368307e+10</td>\n",
       "      <td>104.000000</td>\n",
       "      <td>17.662883</td>\n",
       "      <td>2.080991e+07</td>\n",
       "      <td>759658.664811</td>\n",
       "      <td>19710.000000</td>\n",
       "      <td>1120.000000</td>\n",
       "    </tr>\n",
       "    <tr>\n",
       "      <th>max</th>\n",
       "      <td>8.823971e+14</td>\n",
       "      <td>220.000000</td>\n",
       "      <td>40.000000</td>\n",
       "      <td>2.080991e+07</td>\n",
       "      <td>759658.664811</td>\n",
       "      <td>378160.000000</td>\n",
       "      <td>58613.000000</td>\n",
       "    </tr>\n",
       "  </tbody>\n",
       "</table>\n",
       "</div>"
      ],
      "text/plain": [
       "       MSISDN/Number  Avg RTT DL (ms)  Avg RTT UL (ms)  \\\n",
       "count   1.500010e+05    150001.000000    150001.000000   \n",
       "mean    4.182414e+10        64.169484        10.159280   \n",
       "std     2.438731e+12        37.817597         8.716573   \n",
       "min     3.360100e+10         0.000000         0.000000   \n",
       "25%     3.365094e+10        35.000000         3.000000   \n",
       "50%     3.366361e+10        54.000000         7.000000   \n",
       "75%     3.368307e+10       104.000000        17.662883   \n",
       "max     8.823971e+14       220.000000        40.000000   \n",
       "\n",
       "       TCP DL Retrans. Vol (Bytes)  TCP UL Retrans. Vol (Bytes)  \\\n",
       "count                 1.500010e+05                150001.000000   \n",
       "mean                  1.375607e+07                525524.011857   \n",
       "std                   9.343134e+06                335154.724475   \n",
       "min                   2.000000e+00                     1.000000   \n",
       "25%                   1.332932e+06                 63009.000000   \n",
       "50%                   2.080991e+07                759658.664811   \n",
       "75%                   2.080991e+07                759658.664811   \n",
       "max                   2.080991e+07                759658.664811   \n",
       "\n",
       "       Avg Bearer TP DL (kbps)  Avg Bearer TP UL (kbps)  \n",
       "count            150001.000000            150001.000000  \n",
       "mean              13300.045927              1770.428647  \n",
       "std               23971.798635              4625.340082  \n",
       "min                   0.000000                 0.000000  \n",
       "25%                  43.000000                47.000000  \n",
       "50%                  63.000000                63.000000  \n",
       "75%               19710.000000              1120.000000  \n",
       "max              378160.000000             58613.000000  "
      ]
     },
     "execution_count": 31,
     "metadata": {},
     "output_type": "execute_result"
    }
   ],
   "source": [
    "#distribution after fixing\n",
    "df_exp.describe()"
   ]
  },
  {
   "cell_type": "markdown",
   "metadata": {},
   "source": [
    "## Aggregating total value"
   ]
  },
  {
   "cell_type": "code",
   "execution_count": 32,
   "metadata": {},
   "outputs": [
    {
     "data": {
      "text/html": [
       "<div>\n",
       "<style scoped>\n",
       "    .dataframe tbody tr th:only-of-type {\n",
       "        vertical-align: middle;\n",
       "    }\n",
       "\n",
       "    .dataframe tbody tr th {\n",
       "        vertical-align: top;\n",
       "    }\n",
       "\n",
       "    .dataframe thead th {\n",
       "        text-align: right;\n",
       "    }\n",
       "</style>\n",
       "<table border=\"1\" class=\"dataframe\">\n",
       "  <thead>\n",
       "    <tr style=\"text-align: right;\">\n",
       "      <th></th>\n",
       "      <th>MSISDN/Number</th>\n",
       "      <th>Handset Type</th>\n",
       "      <th>Avg RTT DL (ms)</th>\n",
       "      <th>Avg RTT UL (ms)</th>\n",
       "      <th>TCP DL Retrans. Vol (Bytes)</th>\n",
       "      <th>TCP UL Retrans. Vol (Bytes)</th>\n",
       "      <th>Avg Bearer TP DL (kbps)</th>\n",
       "      <th>Avg Bearer TP UL (kbps)</th>\n",
       "      <th>Average RTT</th>\n",
       "      <th>Average TCP</th>\n",
       "      <th>Average throughput</th>\n",
       "    </tr>\n",
       "  </thead>\n",
       "  <tbody>\n",
       "    <tr>\n",
       "      <th>0</th>\n",
       "      <td>3.366496e+10</td>\n",
       "      <td>Samsung Galaxy A5 Sm-A520F</td>\n",
       "      <td>42.000000</td>\n",
       "      <td>5.000000</td>\n",
       "      <td>2.080991e+07</td>\n",
       "      <td>759658.664811</td>\n",
       "      <td>23.0</td>\n",
       "      <td>44.0</td>\n",
       "      <td>47.000000</td>\n",
       "      <td>2.156957e+07</td>\n",
       "      <td>46.0</td>\n",
       "    </tr>\n",
       "    <tr>\n",
       "      <th>1</th>\n",
       "      <td>3.368185e+10</td>\n",
       "      <td>Samsung Galaxy J5 (Sm-J530)</td>\n",
       "      <td>65.000000</td>\n",
       "      <td>5.000000</td>\n",
       "      <td>2.080991e+07</td>\n",
       "      <td>759658.664811</td>\n",
       "      <td>16.0</td>\n",
       "      <td>26.0</td>\n",
       "      <td>70.000000</td>\n",
       "      <td>2.156957e+07</td>\n",
       "      <td>32.0</td>\n",
       "    </tr>\n",
       "    <tr>\n",
       "      <th>2</th>\n",
       "      <td>3.376063e+10</td>\n",
       "      <td>Samsung Galaxy A8 (2018)</td>\n",
       "      <td>109.795706</td>\n",
       "      <td>17.662883</td>\n",
       "      <td>2.080991e+07</td>\n",
       "      <td>759658.664811</td>\n",
       "      <td>6.0</td>\n",
       "      <td>9.0</td>\n",
       "      <td>127.458589</td>\n",
       "      <td>2.156957e+07</td>\n",
       "      <td>12.0</td>\n",
       "    </tr>\n",
       "    <tr>\n",
       "      <th>3</th>\n",
       "      <td>3.375034e+10</td>\n",
       "      <td>undefined</td>\n",
       "      <td>109.795706</td>\n",
       "      <td>17.662883</td>\n",
       "      <td>2.080991e+07</td>\n",
       "      <td>759658.664811</td>\n",
       "      <td>44.0</td>\n",
       "      <td>44.0</td>\n",
       "      <td>127.458589</td>\n",
       "      <td>2.156957e+07</td>\n",
       "      <td>88.0</td>\n",
       "    </tr>\n",
       "    <tr>\n",
       "      <th>4</th>\n",
       "      <td>3.369980e+10</td>\n",
       "      <td>Samsung Sm-G390F</td>\n",
       "      <td>109.795706</td>\n",
       "      <td>17.662883</td>\n",
       "      <td>2.080991e+07</td>\n",
       "      <td>759658.664811</td>\n",
       "      <td>6.0</td>\n",
       "      <td>9.0</td>\n",
       "      <td>127.458589</td>\n",
       "      <td>2.156957e+07</td>\n",
       "      <td>12.0</td>\n",
       "    </tr>\n",
       "  </tbody>\n",
       "</table>\n",
       "</div>"
      ],
      "text/plain": [
       "   MSISDN/Number                 Handset Type  Avg RTT DL (ms)  \\\n",
       "0   3.366496e+10   Samsung Galaxy A5 Sm-A520F        42.000000   \n",
       "1   3.368185e+10  Samsung Galaxy J5 (Sm-J530)        65.000000   \n",
       "2   3.376063e+10     Samsung Galaxy A8 (2018)       109.795706   \n",
       "3   3.375034e+10                    undefined       109.795706   \n",
       "4   3.369980e+10             Samsung Sm-G390F       109.795706   \n",
       "\n",
       "   Avg RTT UL (ms)  TCP DL Retrans. Vol (Bytes)  TCP UL Retrans. Vol (Bytes)  \\\n",
       "0         5.000000                 2.080991e+07                759658.664811   \n",
       "1         5.000000                 2.080991e+07                759658.664811   \n",
       "2        17.662883                 2.080991e+07                759658.664811   \n",
       "3        17.662883                 2.080991e+07                759658.664811   \n",
       "4        17.662883                 2.080991e+07                759658.664811   \n",
       "\n",
       "   Avg Bearer TP DL (kbps)  Avg Bearer TP UL (kbps)  Average RTT  \\\n",
       "0                     23.0                     44.0    47.000000   \n",
       "1                     16.0                     26.0    70.000000   \n",
       "2                      6.0                      9.0   127.458589   \n",
       "3                     44.0                     44.0   127.458589   \n",
       "4                      6.0                      9.0   127.458589   \n",
       "\n",
       "    Average TCP  Average throughput  \n",
       "0  2.156957e+07                46.0  \n",
       "1  2.156957e+07                32.0  \n",
       "2  2.156957e+07                12.0  \n",
       "3  2.156957e+07                88.0  \n",
       "4  2.156957e+07                12.0  "
      ]
     },
     "execution_count": 32,
     "metadata": {},
     "output_type": "execute_result"
    }
   ],
   "source": [
    "# Aggregating Total value of Avg RTT UL + DL\n",
    "df_exp['Average RTT'] = df_exp['Avg RTT UL (ms)']+df_exp['Avg RTT DL (ms)']\n",
    "\n",
    "# Aggreagating Total value of TCP DL + UL\n",
    "df_exp['Average TCP']=df_exp['TCP DL Retrans. Vol (Bytes)']+df_exp['TCP UL Retrans. Vol (Bytes)']\n",
    "\n",
    "# Aggregating Total values of Avg throughput\n",
    "df_exp['Average throughput']=df_exp['Avg Bearer TP DL (kbps)']+df_exp['Avg Bearer TP DL (kbps)']\n",
    "\n",
    "# show aggregated dataframe\n",
    "df_exp.head()"
   ]
  },
  {
   "cell_type": "code",
   "execution_count": 33,
   "metadata": {},
   "outputs": [
    {
     "data": {
      "text/html": [
       "<div>\n",
       "<style scoped>\n",
       "    .dataframe tbody tr th:only-of-type {\n",
       "        vertical-align: middle;\n",
       "    }\n",
       "\n",
       "    .dataframe tbody tr th {\n",
       "        vertical-align: top;\n",
       "    }\n",
       "\n",
       "    .dataframe thead th {\n",
       "        text-align: right;\n",
       "    }\n",
       "</style>\n",
       "<table border=\"1\" class=\"dataframe\">\n",
       "  <thead>\n",
       "    <tr style=\"text-align: right;\">\n",
       "      <th></th>\n",
       "      <th>MSISDN/Number</th>\n",
       "      <th>Handset Type</th>\n",
       "      <th>Average RTT</th>\n",
       "      <th>Average TCP</th>\n",
       "      <th>Average throughput</th>\n",
       "    </tr>\n",
       "  </thead>\n",
       "  <tbody>\n",
       "    <tr>\n",
       "      <th>0</th>\n",
       "      <td>3.366496e+10</td>\n",
       "      <td>Samsung Galaxy A5 Sm-A520F</td>\n",
       "      <td>47.000000</td>\n",
       "      <td>2.156957e+07</td>\n",
       "      <td>46.0</td>\n",
       "    </tr>\n",
       "    <tr>\n",
       "      <th>1</th>\n",
       "      <td>3.368185e+10</td>\n",
       "      <td>Samsung Galaxy J5 (Sm-J530)</td>\n",
       "      <td>70.000000</td>\n",
       "      <td>2.156957e+07</td>\n",
       "      <td>32.0</td>\n",
       "    </tr>\n",
       "    <tr>\n",
       "      <th>2</th>\n",
       "      <td>3.376063e+10</td>\n",
       "      <td>Samsung Galaxy A8 (2018)</td>\n",
       "      <td>127.458589</td>\n",
       "      <td>2.156957e+07</td>\n",
       "      <td>12.0</td>\n",
       "    </tr>\n",
       "    <tr>\n",
       "      <th>3</th>\n",
       "      <td>3.375034e+10</td>\n",
       "      <td>undefined</td>\n",
       "      <td>127.458589</td>\n",
       "      <td>2.156957e+07</td>\n",
       "      <td>88.0</td>\n",
       "    </tr>\n",
       "    <tr>\n",
       "      <th>4</th>\n",
       "      <td>3.369980e+10</td>\n",
       "      <td>Samsung Sm-G390F</td>\n",
       "      <td>127.458589</td>\n",
       "      <td>2.156957e+07</td>\n",
       "      <td>12.0</td>\n",
       "    </tr>\n",
       "  </tbody>\n",
       "</table>\n",
       "</div>"
      ],
      "text/plain": [
       "   MSISDN/Number                 Handset Type  Average RTT   Average TCP  \\\n",
       "0   3.366496e+10   Samsung Galaxy A5 Sm-A520F    47.000000  2.156957e+07   \n",
       "1   3.368185e+10  Samsung Galaxy J5 (Sm-J530)    70.000000  2.156957e+07   \n",
       "2   3.376063e+10     Samsung Galaxy A8 (2018)   127.458589  2.156957e+07   \n",
       "3   3.375034e+10                    undefined   127.458589  2.156957e+07   \n",
       "4   3.369980e+10             Samsung Sm-G390F   127.458589  2.156957e+07   \n",
       "\n",
       "   Average throughput  \n",
       "0                46.0  \n",
       "1                32.0  \n",
       "2                12.0  \n",
       "3                88.0  \n",
       "4                12.0  "
      ]
     },
     "execution_count": 33,
     "metadata": {},
     "output_type": "execute_result"
    }
   ],
   "source": [
    "df_expNew = df_exp[['MSISDN/Number','Handset Type','Average RTT',\n",
    "                   'Average TCP','Average throughput']]\n",
    "df_expNew.head()"
   ]
  },
  {
   "cell_type": "markdown",
   "metadata": {},
   "source": [
    "# ---------------------------------------------------------------------------------------------------------------\n",
    "## Compute and list 10 of the top, bottom and most frequent TCP, RTT, and Throughput values in the dataset"
   ]
  },
  {
   "cell_type": "markdown",
   "metadata": {},
   "source": [
    "# 1. TCP Values"
   ]
  },
  {
   "cell_type": "code",
   "execution_count": 34,
   "metadata": {},
   "outputs": [],
   "source": [
    "#sorting data highest to lowest\n",
    "df_expNew.sort_values(by=['Average TCP'],ascending=False, inplace=True)"
   ]
  },
  {
   "cell_type": "code",
   "execution_count": 38,
   "metadata": {},
   "outputs": [
    {
     "data": {
      "text/html": [
       "<div>\n",
       "<style scoped>\n",
       "    .dataframe tbody tr th:only-of-type {\n",
       "        vertical-align: middle;\n",
       "    }\n",
       "\n",
       "    .dataframe tbody tr th {\n",
       "        vertical-align: top;\n",
       "    }\n",
       "\n",
       "    .dataframe thead th {\n",
       "        text-align: right;\n",
       "    }\n",
       "</style>\n",
       "<table border=\"1\" class=\"dataframe\">\n",
       "  <thead>\n",
       "    <tr style=\"text-align: right;\">\n",
       "      <th></th>\n",
       "      <th>Average TCP</th>\n",
       "    </tr>\n",
       "  </thead>\n",
       "  <tbody>\n",
       "    <tr>\n",
       "      <th>0</th>\n",
       "      <td>2.156957e+07</td>\n",
       "    </tr>\n",
       "    <tr>\n",
       "      <th>87119</th>\n",
       "      <td>2.156957e+07</td>\n",
       "    </tr>\n",
       "    <tr>\n",
       "      <th>87141</th>\n",
       "      <td>2.156957e+07</td>\n",
       "    </tr>\n",
       "    <tr>\n",
       "      <th>87140</th>\n",
       "      <td>2.156957e+07</td>\n",
       "    </tr>\n",
       "    <tr>\n",
       "      <th>87138</th>\n",
       "      <td>2.156957e+07</td>\n",
       "    </tr>\n",
       "    <tr>\n",
       "      <th>87137</th>\n",
       "      <td>2.156957e+07</td>\n",
       "    </tr>\n",
       "    <tr>\n",
       "      <th>87136</th>\n",
       "      <td>2.156957e+07</td>\n",
       "    </tr>\n",
       "    <tr>\n",
       "      <th>87135</th>\n",
       "      <td>2.156957e+07</td>\n",
       "    </tr>\n",
       "    <tr>\n",
       "      <th>87134</th>\n",
       "      <td>2.156957e+07</td>\n",
       "    </tr>\n",
       "    <tr>\n",
       "      <th>87133</th>\n",
       "      <td>2.156957e+07</td>\n",
       "    </tr>\n",
       "  </tbody>\n",
       "</table>\n",
       "</div>"
      ],
      "text/plain": [
       "        Average TCP\n",
       "0      2.156957e+07\n",
       "87119  2.156957e+07\n",
       "87141  2.156957e+07\n",
       "87140  2.156957e+07\n",
       "87138  2.156957e+07\n",
       "87137  2.156957e+07\n",
       "87136  2.156957e+07\n",
       "87135  2.156957e+07\n",
       "87134  2.156957e+07\n",
       "87133  2.156957e+07"
      ]
     },
     "execution_count": 38,
     "metadata": {},
     "output_type": "execute_result"
    }
   ],
   "source": [
    "#getting the top 10 TCP values and saving to csv file\n",
    "top10tcp=df_expNew['Average TCP'].head(10)\n",
    "top10tcp.to_csv(\"../data/top10tcp.csv\",index=False)\n",
    "top10tcp.to_frame()"
   ]
  },
  {
   "cell_type": "code",
   "execution_count": 36,
   "metadata": {},
   "outputs": [
    {
     "data": {
      "text/html": [
       "<div>\n",
       "<style scoped>\n",
       "    .dataframe tbody tr th:only-of-type {\n",
       "        vertical-align: middle;\n",
       "    }\n",
       "\n",
       "    .dataframe tbody tr th {\n",
       "        vertical-align: top;\n",
       "    }\n",
       "\n",
       "    .dataframe thead th {\n",
       "        text-align: right;\n",
       "    }\n",
       "</style>\n",
       "<table border=\"1\" class=\"dataframe\">\n",
       "  <thead>\n",
       "    <tr style=\"text-align: right;\">\n",
       "      <th></th>\n",
       "      <th>Average TCP</th>\n",
       "    </tr>\n",
       "  </thead>\n",
       "  <tbody>\n",
       "    <tr>\n",
       "      <th>12849</th>\n",
       "      <td>143.0</td>\n",
       "    </tr>\n",
       "    <tr>\n",
       "      <th>83214</th>\n",
       "      <td>134.0</td>\n",
       "    </tr>\n",
       "    <tr>\n",
       "      <th>95955</th>\n",
       "      <td>134.0</td>\n",
       "    </tr>\n",
       "    <tr>\n",
       "      <th>99947</th>\n",
       "      <td>129.0</td>\n",
       "    </tr>\n",
       "    <tr>\n",
       "      <th>8794</th>\n",
       "      <td>128.0</td>\n",
       "    </tr>\n",
       "    <tr>\n",
       "      <th>97061</th>\n",
       "      <td>113.0</td>\n",
       "    </tr>\n",
       "    <tr>\n",
       "      <th>13142</th>\n",
       "      <td>108.0</td>\n",
       "    </tr>\n",
       "    <tr>\n",
       "      <th>18417</th>\n",
       "      <td>106.0</td>\n",
       "    </tr>\n",
       "    <tr>\n",
       "      <th>111100</th>\n",
       "      <td>97.0</td>\n",
       "    </tr>\n",
       "    <tr>\n",
       "      <th>143594</th>\n",
       "      <td>86.0</td>\n",
       "    </tr>\n",
       "  </tbody>\n",
       "</table>\n",
       "</div>"
      ],
      "text/plain": [
       "        Average TCP\n",
       "12849         143.0\n",
       "83214         134.0\n",
       "95955         134.0\n",
       "99947         129.0\n",
       "8794          128.0\n",
       "97061         113.0\n",
       "13142         108.0\n",
       "18417         106.0\n",
       "111100         97.0\n",
       "143594         86.0"
      ]
     },
     "execution_count": 36,
     "metadata": {},
     "output_type": "execute_result"
    }
   ],
   "source": [
    "#getting the bottom 10 TCP values and saving to csv file\n",
    "btm10tcp=df_expNew['Average TCP'].tail(10)\n",
    "btm10tcp.to_csv(\"../data/btm10tcp.csv\",index=False)\n",
    "btm10tcp.to_frame()"
   ]
  },
  {
   "cell_type": "code",
   "execution_count": 39,
   "metadata": {},
   "outputs": [
    {
     "data": {
      "text/html": [
       "<div>\n",
       "<style scoped>\n",
       "    .dataframe tbody tr th:only-of-type {\n",
       "        vertical-align: middle;\n",
       "    }\n",
       "\n",
       "    .dataframe tbody tr th {\n",
       "        vertical-align: top;\n",
       "    }\n",
       "\n",
       "    .dataframe thead th {\n",
       "        text-align: right;\n",
       "    }\n",
       "</style>\n",
       "<table border=\"1\" class=\"dataframe\">\n",
       "  <thead>\n",
       "    <tr style=\"text-align: right;\">\n",
       "      <th></th>\n",
       "      <th>0</th>\n",
       "    </tr>\n",
       "  </thead>\n",
       "  <tbody>\n",
       "    <tr>\n",
       "      <th>0</th>\n",
       "      <td>2.156957e+07</td>\n",
       "    </tr>\n",
       "    <tr>\n",
       "      <th>1</th>\n",
       "      <td>2.081121e+07</td>\n",
       "    </tr>\n",
       "    <tr>\n",
       "      <th>2</th>\n",
       "      <td>2.081124e+07</td>\n",
       "    </tr>\n",
       "    <tr>\n",
       "      <th>3</th>\n",
       "      <td>7.609887e+05</td>\n",
       "    </tr>\n",
       "    <tr>\n",
       "      <th>4</th>\n",
       "      <td>2.081123e+07</td>\n",
       "    </tr>\n",
       "    <tr>\n",
       "      <th>5</th>\n",
       "      <td>7.596967e+05</td>\n",
       "    </tr>\n",
       "    <tr>\n",
       "      <th>6</th>\n",
       "      <td>7.597507e+05</td>\n",
       "    </tr>\n",
       "    <tr>\n",
       "      <th>7</th>\n",
       "      <td>7.623187e+05</td>\n",
       "    </tr>\n",
       "    <tr>\n",
       "      <th>8</th>\n",
       "      <td>2.081257e+07</td>\n",
       "    </tr>\n",
       "    <tr>\n",
       "      <th>9</th>\n",
       "      <td>7.609767e+05</td>\n",
       "    </tr>\n",
       "  </tbody>\n",
       "</table>\n",
       "</div>"
      ],
      "text/plain": [
       "              0\n",
       "0  2.156957e+07\n",
       "1  2.081121e+07\n",
       "2  2.081124e+07\n",
       "3  7.609887e+05\n",
       "4  2.081123e+07\n",
       "5  7.596967e+05\n",
       "6  7.597507e+05\n",
       "7  7.623187e+05\n",
       "8  2.081257e+07\n",
       "9  7.609767e+05"
      ]
     },
     "execution_count": 39,
     "metadata": {},
     "output_type": "execute_result"
    }
   ],
   "source": [
    "#getting the most frequent TCP values and saving to a csv file\n",
    "most_freq = df_expNew['Average TCP'].value_counts().index.tolist()\n",
    "# changing the list to a datafrmae\n",
    "df1 = pd.DataFrame(most_freq)\n",
    "# saving to a csv file\n",
    "most_freq10=df1.head(10)\n",
    "most_freq10.to_csv(\"../data/most_freqTCP.csv\",index=False)\n",
    "most_freq10"
   ]
  },
  {
   "cell_type": "markdown",
   "metadata": {},
   "source": [
    "# 2. RTT Values"
   ]
  },
  {
   "cell_type": "code",
   "execution_count": 40,
   "metadata": {},
   "outputs": [],
   "source": [
    "#sorting data highest to lowest\n",
    "df_expNew.sort_values(by=['Average RTT'],ascending=False, inplace=True)"
   ]
  },
  {
   "cell_type": "code",
   "execution_count": 41,
   "metadata": {},
   "outputs": [
    {
     "data": {
      "text/html": [
       "<div>\n",
       "<style scoped>\n",
       "    .dataframe tbody tr th:only-of-type {\n",
       "        vertical-align: middle;\n",
       "    }\n",
       "\n",
       "    .dataframe tbody tr th {\n",
       "        vertical-align: top;\n",
       "    }\n",
       "\n",
       "    .dataframe thead th {\n",
       "        text-align: right;\n",
       "    }\n",
       "</style>\n",
       "<table border=\"1\" class=\"dataframe\">\n",
       "  <thead>\n",
       "    <tr style=\"text-align: right;\">\n",
       "      <th></th>\n",
       "      <th>Average RTT</th>\n",
       "    </tr>\n",
       "  </thead>\n",
       "  <tbody>\n",
       "    <tr>\n",
       "      <th>141222</th>\n",
       "      <td>259.0</td>\n",
       "    </tr>\n",
       "    <tr>\n",
       "      <th>120437</th>\n",
       "      <td>259.0</td>\n",
       "    </tr>\n",
       "    <tr>\n",
       "      <th>117828</th>\n",
       "      <td>258.0</td>\n",
       "    </tr>\n",
       "    <tr>\n",
       "      <th>117962</th>\n",
       "      <td>258.0</td>\n",
       "    </tr>\n",
       "    <tr>\n",
       "      <th>68300</th>\n",
       "      <td>258.0</td>\n",
       "    </tr>\n",
       "    <tr>\n",
       "      <th>764</th>\n",
       "      <td>256.0</td>\n",
       "    </tr>\n",
       "    <tr>\n",
       "      <th>65745</th>\n",
       "      <td>255.0</td>\n",
       "    </tr>\n",
       "    <tr>\n",
       "      <th>66074</th>\n",
       "      <td>255.0</td>\n",
       "    </tr>\n",
       "    <tr>\n",
       "      <th>36850</th>\n",
       "      <td>255.0</td>\n",
       "    </tr>\n",
       "    <tr>\n",
       "      <th>60428</th>\n",
       "      <td>255.0</td>\n",
       "    </tr>\n",
       "  </tbody>\n",
       "</table>\n",
       "</div>"
      ],
      "text/plain": [
       "        Average RTT\n",
       "141222        259.0\n",
       "120437        259.0\n",
       "117828        258.0\n",
       "117962        258.0\n",
       "68300         258.0\n",
       "764           256.0\n",
       "65745         255.0\n",
       "66074         255.0\n",
       "36850         255.0\n",
       "60428         255.0"
      ]
     },
     "execution_count": 41,
     "metadata": {},
     "output_type": "execute_result"
    }
   ],
   "source": [
    "#getting the top 10 rtt values and saving to csv\n",
    "top10rtt=df_expNew['Average RTT'].head(10)\n",
    "top10rtt.to_csv(\"../data/top10rtt.csv\",index=False)\n",
    "top10rtt.to_frame()"
   ]
  },
  {
   "cell_type": "code",
   "execution_count": 42,
   "metadata": {},
   "outputs": [
    {
     "data": {
      "text/html": [
       "<div>\n",
       "<style scoped>\n",
       "    .dataframe tbody tr th:only-of-type {\n",
       "        vertical-align: middle;\n",
       "    }\n",
       "\n",
       "    .dataframe tbody tr th {\n",
       "        vertical-align: top;\n",
       "    }\n",
       "\n",
       "    .dataframe thead th {\n",
       "        text-align: right;\n",
       "    }\n",
       "</style>\n",
       "<table border=\"1\" class=\"dataframe\">\n",
       "  <thead>\n",
       "    <tr style=\"text-align: right;\">\n",
       "      <th></th>\n",
       "      <th>Average RTT</th>\n",
       "    </tr>\n",
       "  </thead>\n",
       "  <tbody>\n",
       "    <tr>\n",
       "      <th>8756</th>\n",
       "      <td>6.0</td>\n",
       "    </tr>\n",
       "    <tr>\n",
       "      <th>123210</th>\n",
       "      <td>6.0</td>\n",
       "    </tr>\n",
       "    <tr>\n",
       "      <th>103544</th>\n",
       "      <td>5.0</td>\n",
       "    </tr>\n",
       "    <tr>\n",
       "      <th>50966</th>\n",
       "      <td>4.0</td>\n",
       "    </tr>\n",
       "    <tr>\n",
       "      <th>144923</th>\n",
       "      <td>4.0</td>\n",
       "    </tr>\n",
       "    <tr>\n",
       "      <th>71738</th>\n",
       "      <td>2.0</td>\n",
       "    </tr>\n",
       "    <tr>\n",
       "      <th>42602</th>\n",
       "      <td>0.0</td>\n",
       "    </tr>\n",
       "    <tr>\n",
       "      <th>143878</th>\n",
       "      <td>0.0</td>\n",
       "    </tr>\n",
       "    <tr>\n",
       "      <th>103321</th>\n",
       "      <td>0.0</td>\n",
       "    </tr>\n",
       "    <tr>\n",
       "      <th>124538</th>\n",
       "      <td>0.0</td>\n",
       "    </tr>\n",
       "  </tbody>\n",
       "</table>\n",
       "</div>"
      ],
      "text/plain": [
       "        Average RTT\n",
       "8756            6.0\n",
       "123210          6.0\n",
       "103544          5.0\n",
       "50966           4.0\n",
       "144923          4.0\n",
       "71738           2.0\n",
       "42602           0.0\n",
       "143878          0.0\n",
       "103321          0.0\n",
       "124538          0.0"
      ]
     },
     "execution_count": 42,
     "metadata": {},
     "output_type": "execute_result"
    }
   ],
   "source": [
    "#getting the bottom 10 RTT values and saving to csv file\n",
    "btm10rtt=df_expNew['Average RTT'].tail(10)\n",
    "btm10rtt.to_csv(\"../data/btm10rtt.csv\",index=False)\n",
    "btm10rtt.to_frame()"
   ]
  },
  {
   "cell_type": "code",
   "execution_count": 43,
   "metadata": {},
   "outputs": [
    {
     "data": {
      "text/html": [
       "<div>\n",
       "<style scoped>\n",
       "    .dataframe tbody tr th:only-of-type {\n",
       "        vertical-align: middle;\n",
       "    }\n",
       "\n",
       "    .dataframe tbody tr th {\n",
       "        vertical-align: top;\n",
       "    }\n",
       "\n",
       "    .dataframe thead th {\n",
       "        text-align: right;\n",
       "    }\n",
       "</style>\n",
       "<table border=\"1\" class=\"dataframe\">\n",
       "  <thead>\n",
       "    <tr style=\"text-align: right;\">\n",
       "      <th></th>\n",
       "      <th>0</th>\n",
       "    </tr>\n",
       "  </thead>\n",
       "  <tbody>\n",
       "    <tr>\n",
       "      <th>0</th>\n",
       "      <td>127.458589</td>\n",
       "    </tr>\n",
       "    <tr>\n",
       "      <th>1</th>\n",
       "      <td>29.000000</td>\n",
       "    </tr>\n",
       "    <tr>\n",
       "      <th>2</th>\n",
       "      <td>39.000000</td>\n",
       "    </tr>\n",
       "    <tr>\n",
       "      <th>3</th>\n",
       "      <td>38.000000</td>\n",
       "    </tr>\n",
       "    <tr>\n",
       "      <th>4</th>\n",
       "      <td>40.000000</td>\n",
       "    </tr>\n",
       "    <tr>\n",
       "      <th>5</th>\n",
       "      <td>30.000000</td>\n",
       "    </tr>\n",
       "    <tr>\n",
       "      <th>6</th>\n",
       "      <td>28.000000</td>\n",
       "    </tr>\n",
       "    <tr>\n",
       "      <th>7</th>\n",
       "      <td>61.000000</td>\n",
       "    </tr>\n",
       "    <tr>\n",
       "      <th>8</th>\n",
       "      <td>59.000000</td>\n",
       "    </tr>\n",
       "    <tr>\n",
       "      <th>9</th>\n",
       "      <td>49.000000</td>\n",
       "    </tr>\n",
       "  </tbody>\n",
       "</table>\n",
       "</div>"
      ],
      "text/plain": [
       "            0\n",
       "0  127.458589\n",
       "1   29.000000\n",
       "2   39.000000\n",
       "3   38.000000\n",
       "4   40.000000\n",
       "5   30.000000\n",
       "6   28.000000\n",
       "7   61.000000\n",
       "8   59.000000\n",
       "9   49.000000"
      ]
     },
     "execution_count": 43,
     "metadata": {},
     "output_type": "execute_result"
    }
   ],
   "source": [
    "#getting the most frequent RTT values\n",
    "most_freq = df_expNew['Average RTT'].value_counts().index.tolist()\n",
    "# changing the list to a datafrmae\n",
    "df1 = pd.DataFrame(most_freq)\n",
    "# saving to a csv file\n",
    "most_freq10=df1.head(10)\n",
    "most_freq10.to_csv(\"../data/most_freqRTT.csv\",index=False)\n",
    "most_freq10"
   ]
  },
  {
   "cell_type": "markdown",
   "metadata": {},
   "source": [
    "# 3. Average throughput values"
   ]
  },
  {
   "cell_type": "code",
   "execution_count": 44,
   "metadata": {},
   "outputs": [],
   "source": [
    "#sorting data highest to lowest\n",
    "df_expNew.sort_values(by=['Average throughput'], ascending=False, inplace=True)"
   ]
  },
  {
   "cell_type": "code",
   "execution_count": 45,
   "metadata": {},
   "outputs": [
    {
     "data": {
      "text/html": [
       "<div>\n",
       "<style scoped>\n",
       "    .dataframe tbody tr th:only-of-type {\n",
       "        vertical-align: middle;\n",
       "    }\n",
       "\n",
       "    .dataframe tbody tr th {\n",
       "        vertical-align: top;\n",
       "    }\n",
       "\n",
       "    .dataframe thead th {\n",
       "        text-align: right;\n",
       "    }\n",
       "</style>\n",
       "<table border=\"1\" class=\"dataframe\">\n",
       "  <thead>\n",
       "    <tr style=\"text-align: right;\">\n",
       "      <th></th>\n",
       "      <th>Average throughput</th>\n",
       "    </tr>\n",
       "  </thead>\n",
       "  <tbody>\n",
       "    <tr>\n",
       "      <th>120876</th>\n",
       "      <td>756320.0</td>\n",
       "    </tr>\n",
       "    <tr>\n",
       "      <th>141250</th>\n",
       "      <td>598514.0</td>\n",
       "    </tr>\n",
       "    <tr>\n",
       "      <th>143670</th>\n",
       "      <td>598004.0</td>\n",
       "    </tr>\n",
       "    <tr>\n",
       "      <th>149616</th>\n",
       "      <td>552080.0</td>\n",
       "    </tr>\n",
       "    <tr>\n",
       "      <th>92177</th>\n",
       "      <td>538724.0</td>\n",
       "    </tr>\n",
       "    <tr>\n",
       "      <th>117776</th>\n",
       "      <td>532664.0</td>\n",
       "    </tr>\n",
       "    <tr>\n",
       "      <th>115836</th>\n",
       "      <td>530880.0</td>\n",
       "    </tr>\n",
       "    <tr>\n",
       "      <th>89567</th>\n",
       "      <td>528896.0</td>\n",
       "    </tr>\n",
       "    <tr>\n",
       "      <th>116550</th>\n",
       "      <td>526094.0</td>\n",
       "    </tr>\n",
       "    <tr>\n",
       "      <th>41551</th>\n",
       "      <td>508506.0</td>\n",
       "    </tr>\n",
       "  </tbody>\n",
       "</table>\n",
       "</div>"
      ],
      "text/plain": [
       "        Average throughput\n",
       "120876            756320.0\n",
       "141250            598514.0\n",
       "143670            598004.0\n",
       "149616            552080.0\n",
       "92177             538724.0\n",
       "117776            532664.0\n",
       "115836            530880.0\n",
       "89567             528896.0\n",
       "116550            526094.0\n",
       "41551             508506.0"
      ]
     },
     "execution_count": 45,
     "metadata": {},
     "output_type": "execute_result"
    }
   ],
   "source": [
    "#getting the top 10 avg throughput values and saving to csv\n",
    "top10avgT=df_expNew['Average throughput'].head(10)\n",
    "top10avgT.to_csv(\"../data/top10avgThroughput.csv\",index=False)\n",
    "top10avgT.to_frame()"
   ]
  },
  {
   "cell_type": "code",
   "execution_count": 46,
   "metadata": {},
   "outputs": [
    {
     "data": {
      "text/html": [
       "<div>\n",
       "<style scoped>\n",
       "    .dataframe tbody tr th:only-of-type {\n",
       "        vertical-align: middle;\n",
       "    }\n",
       "\n",
       "    .dataframe tbody tr th {\n",
       "        vertical-align: top;\n",
       "    }\n",
       "\n",
       "    .dataframe thead th {\n",
       "        text-align: right;\n",
       "    }\n",
       "</style>\n",
       "<table border=\"1\" class=\"dataframe\">\n",
       "  <thead>\n",
       "    <tr style=\"text-align: right;\">\n",
       "      <th></th>\n",
       "      <th>Average throughput</th>\n",
       "    </tr>\n",
       "  </thead>\n",
       "  <tbody>\n",
       "    <tr>\n",
       "      <th>67293</th>\n",
       "      <td>0.0</td>\n",
       "    </tr>\n",
       "    <tr>\n",
       "      <th>36282</th>\n",
       "      <td>0.0</td>\n",
       "    </tr>\n",
       "    <tr>\n",
       "      <th>21988</th>\n",
       "      <td>0.0</td>\n",
       "    </tr>\n",
       "    <tr>\n",
       "      <th>49389</th>\n",
       "      <td>0.0</td>\n",
       "    </tr>\n",
       "    <tr>\n",
       "      <th>125213</th>\n",
       "      <td>0.0</td>\n",
       "    </tr>\n",
       "    <tr>\n",
       "      <th>135289</th>\n",
       "      <td>0.0</td>\n",
       "    </tr>\n",
       "    <tr>\n",
       "      <th>17545</th>\n",
       "      <td>0.0</td>\n",
       "    </tr>\n",
       "    <tr>\n",
       "      <th>82575</th>\n",
       "      <td>0.0</td>\n",
       "    </tr>\n",
       "    <tr>\n",
       "      <th>82423</th>\n",
       "      <td>0.0</td>\n",
       "    </tr>\n",
       "    <tr>\n",
       "      <th>59643</th>\n",
       "      <td>0.0</td>\n",
       "    </tr>\n",
       "  </tbody>\n",
       "</table>\n",
       "</div>"
      ],
      "text/plain": [
       "        Average throughput\n",
       "67293                  0.0\n",
       "36282                  0.0\n",
       "21988                  0.0\n",
       "49389                  0.0\n",
       "125213                 0.0\n",
       "135289                 0.0\n",
       "17545                  0.0\n",
       "82575                  0.0\n",
       "82423                  0.0\n",
       "59643                  0.0"
      ]
     },
     "execution_count": 46,
     "metadata": {},
     "output_type": "execute_result"
    }
   ],
   "source": [
    "#getting the bottom 10 avg thr values and saving to csv file\n",
    "btm10rtt=df_expNew['Average throughput'].tail(10)\n",
    "btm10rtt.to_csv(\"../data/btm10avgThroughput.csv\",index=False)\n",
    "btm10rtt.to_frame()"
   ]
  },
  {
   "cell_type": "code",
   "execution_count": 47,
   "metadata": {},
   "outputs": [
    {
     "data": {
      "text/html": [
       "<div>\n",
       "<style scoped>\n",
       "    .dataframe tbody tr th:only-of-type {\n",
       "        vertical-align: middle;\n",
       "    }\n",
       "\n",
       "    .dataframe tbody tr th {\n",
       "        vertical-align: top;\n",
       "    }\n",
       "\n",
       "    .dataframe thead th {\n",
       "        text-align: right;\n",
       "    }\n",
       "</style>\n",
       "<table border=\"1\" class=\"dataframe\">\n",
       "  <thead>\n",
       "    <tr style=\"text-align: right;\">\n",
       "      <th></th>\n",
       "      <th>0</th>\n",
       "    </tr>\n",
       "  </thead>\n",
       "  <tbody>\n",
       "    <tr>\n",
       "      <th>0</th>\n",
       "      <td>46.0</td>\n",
       "    </tr>\n",
       "    <tr>\n",
       "      <th>1</th>\n",
       "      <td>86.0</td>\n",
       "    </tr>\n",
       "    <tr>\n",
       "      <th>2</th>\n",
       "      <td>88.0</td>\n",
       "    </tr>\n",
       "    <tr>\n",
       "      <th>3</th>\n",
       "      <td>12.0</td>\n",
       "    </tr>\n",
       "    <tr>\n",
       "      <th>4</th>\n",
       "      <td>44.0</td>\n",
       "    </tr>\n",
       "    <tr>\n",
       "      <th>5</th>\n",
       "      <td>96.0</td>\n",
       "    </tr>\n",
       "    <tr>\n",
       "      <th>6</th>\n",
       "      <td>126.0</td>\n",
       "    </tr>\n",
       "    <tr>\n",
       "      <th>7</th>\n",
       "      <td>84.0</td>\n",
       "    </tr>\n",
       "    <tr>\n",
       "      <th>8</th>\n",
       "      <td>90.0</td>\n",
       "    </tr>\n",
       "    <tr>\n",
       "      <th>9</th>\n",
       "      <td>94.0</td>\n",
       "    </tr>\n",
       "  </tbody>\n",
       "</table>\n",
       "</div>"
      ],
      "text/plain": [
       "       0\n",
       "0   46.0\n",
       "1   86.0\n",
       "2   88.0\n",
       "3   12.0\n",
       "4   44.0\n",
       "5   96.0\n",
       "6  126.0\n",
       "7   84.0\n",
       "8   90.0\n",
       "9   94.0"
      ]
     },
     "execution_count": 47,
     "metadata": {},
     "output_type": "execute_result"
    }
   ],
   "source": [
    "#getting the most frequent avf thr values\n",
    "most_freq = df_expNew['Average throughput'].value_counts().index.tolist()\n",
    "# changing the list to a datafrmae\n",
    "df1 = pd.DataFrame(most_freq)\n",
    "# saving to a csv file\n",
    "most_freq10=df1.head(10)\n",
    "most_freq10.to_csv(\"../data/most_freqAvgThr.csv\",index=False)\n",
    "most_freq10"
   ]
  },
  {
   "cell_type": "markdown",
   "metadata": {},
   "source": [
    "# --------------------------------------------------------------------------------------------------------------\n",
    "# Distribution of the average throughput per handset type\n",
    "# --------------------------------------------------------------------------------------------------------------"
   ]
  },
  {
   "cell_type": "code",
   "execution_count": 48,
   "metadata": {},
   "outputs": [
    {
     "data": {
      "text/html": [
       "<div>\n",
       "<style scoped>\n",
       "    .dataframe tbody tr th:only-of-type {\n",
       "        vertical-align: middle;\n",
       "    }\n",
       "\n",
       "    .dataframe tbody tr th {\n",
       "        vertical-align: top;\n",
       "    }\n",
       "\n",
       "    .dataframe thead th {\n",
       "        text-align: right;\n",
       "    }\n",
       "</style>\n",
       "<table border=\"1\" class=\"dataframe\">\n",
       "  <thead>\n",
       "    <tr style=\"text-align: right;\">\n",
       "      <th></th>\n",
       "      <th>Handset Type</th>\n",
       "      <th>Average throughput</th>\n",
       "    </tr>\n",
       "  </thead>\n",
       "  <tbody>\n",
       "    <tr>\n",
       "      <th>0</th>\n",
       "      <td>A-Link Telecom I. Cubot A5</td>\n",
       "      <td>46368.0</td>\n",
       "    </tr>\n",
       "    <tr>\n",
       "      <th>1</th>\n",
       "      <td>A-Link Telecom I. Cubot Note Plus</td>\n",
       "      <td>13054.0</td>\n",
       "    </tr>\n",
       "    <tr>\n",
       "      <th>2</th>\n",
       "      <td>A-Link Telecom I. Cubot Note S</td>\n",
       "      <td>17030.0</td>\n",
       "    </tr>\n",
       "    <tr>\n",
       "      <th>3</th>\n",
       "      <td>A-Link Telecom I. Cubot Nova</td>\n",
       "      <td>111334.0</td>\n",
       "    </tr>\n",
       "    <tr>\n",
       "      <th>4</th>\n",
       "      <td>A-Link Telecom I. Cubot Power</td>\n",
       "      <td>138252.0</td>\n",
       "    </tr>\n",
       "    <tr>\n",
       "      <th>5</th>\n",
       "      <td>A-Link Telecom I. Cubot R9</td>\n",
       "      <td>5724.0</td>\n",
       "    </tr>\n",
       "    <tr>\n",
       "      <th>6</th>\n",
       "      <td>A-Link Telecom I. Cubot X18 Plus</td>\n",
       "      <td>48432.0</td>\n",
       "    </tr>\n",
       "    <tr>\n",
       "      <th>7</th>\n",
       "      <td>Acer Liquid M220</td>\n",
       "      <td>0.0</td>\n",
       "    </tr>\n",
       "    <tr>\n",
       "      <th>8</th>\n",
       "      <td>Acer Liquid Z220</td>\n",
       "      <td>776.0</td>\n",
       "    </tr>\n",
       "    <tr>\n",
       "      <th>9</th>\n",
       "      <td>Acer Liquid Z530</td>\n",
       "      <td>442.0</td>\n",
       "    </tr>\n",
       "  </tbody>\n",
       "</table>\n",
       "</div>"
      ],
      "text/plain": [
       "                        Handset Type  Average throughput\n",
       "0         A-Link Telecom I. Cubot A5             46368.0\n",
       "1  A-Link Telecom I. Cubot Note Plus             13054.0\n",
       "2     A-Link Telecom I. Cubot Note S             17030.0\n",
       "3       A-Link Telecom I. Cubot Nova            111334.0\n",
       "4      A-Link Telecom I. Cubot Power            138252.0\n",
       "5         A-Link Telecom I. Cubot R9              5724.0\n",
       "6   A-Link Telecom I. Cubot X18 Plus             48432.0\n",
       "7                   Acer Liquid M220                 0.0\n",
       "8                   Acer Liquid Z220               776.0\n",
       "9                   Acer Liquid Z530               442.0"
      ]
     },
     "execution_count": 48,
     "metadata": {},
     "output_type": "execute_result"
    }
   ],
   "source": [
    "# average throughput for each Handset type\n",
    "Average_thr = df_expNew.groupby('Handset Type')['Average throughput'].sum()\n",
    "avg_thr=Average_thr.to_frame().head(10)\n",
    "avg_thr.reset_index()"
   ]
  },
  {
   "cell_type": "markdown",
   "metadata": {},
   "source": [
    "# Throughput is an actual measure of how much data is successfully transferred from source to destination. So we can infer that the following three handsets have the best quality wifi adapters.\n",
    "### ------------------------------------------------------------------------------------------------------------------------------------------------------------\n",
    "* 1. A-Link Telecom I. Cubot A5\n",
    "* 2. A-Link Telecom I. Cubot Note Plus\n",
    "* 3. A-Link Telecom I. Cubot Note S\n",
    "\n",
    "### -------------------------------------------------------------------------------------------------------------------------------------------------------------"
   ]
  },
  {
   "cell_type": "markdown",
   "metadata": {},
   "source": [
    "\n",
    "# The average TCP retransmission view per handset type\n"
   ]
  },
  {
   "cell_type": "code",
   "execution_count": 49,
   "metadata": {},
   "outputs": [
    {
     "data": {
      "text/html": [
       "<div>\n",
       "<style scoped>\n",
       "    .dataframe tbody tr th:only-of-type {\n",
       "        vertical-align: middle;\n",
       "    }\n",
       "\n",
       "    .dataframe tbody tr th {\n",
       "        vertical-align: top;\n",
       "    }\n",
       "\n",
       "    .dataframe thead th {\n",
       "        text-align: right;\n",
       "    }\n",
       "</style>\n",
       "<table border=\"1\" class=\"dataframe\">\n",
       "  <thead>\n",
       "    <tr style=\"text-align: right;\">\n",
       "      <th></th>\n",
       "      <th>Handset Type</th>\n",
       "      <th>Average TCP</th>\n",
       "    </tr>\n",
       "  </thead>\n",
       "  <tbody>\n",
       "    <tr>\n",
       "      <th>0</th>\n",
       "      <td>A-Link Telecom I. Cubot A5</td>\n",
       "      <td>2.156957e+07</td>\n",
       "    </tr>\n",
       "    <tr>\n",
       "      <th>1</th>\n",
       "      <td>A-Link Telecom I. Cubot Note Plus</td>\n",
       "      <td>6.162130e+05</td>\n",
       "    </tr>\n",
       "    <tr>\n",
       "      <th>2</th>\n",
       "      <td>A-Link Telecom I. Cubot Note S</td>\n",
       "      <td>2.087717e+07</td>\n",
       "    </tr>\n",
       "    <tr>\n",
       "      <th>3</th>\n",
       "      <td>A-Link Telecom I. Cubot Nova</td>\n",
       "      <td>1.371700e+05</td>\n",
       "    </tr>\n",
       "    <tr>\n",
       "      <th>4</th>\n",
       "      <td>A-Link Telecom I. Cubot Power</td>\n",
       "      <td>8.041000e+03</td>\n",
       "    </tr>\n",
       "    <tr>\n",
       "      <th>5</th>\n",
       "      <td>A-Link Telecom I. Cubot R9</td>\n",
       "      <td>3.099900e+04</td>\n",
       "    </tr>\n",
       "    <tr>\n",
       "      <th>6</th>\n",
       "      <td>A-Link Telecom I. Cubot X18 Plus</td>\n",
       "      <td>3.451810e+06</td>\n",
       "    </tr>\n",
       "    <tr>\n",
       "      <th>7</th>\n",
       "      <td>Acer Liquid M220</td>\n",
       "      <td>2.156957e+07</td>\n",
       "    </tr>\n",
       "    <tr>\n",
       "      <th>8</th>\n",
       "      <td>Acer Liquid Z220</td>\n",
       "      <td>1.743870e+05</td>\n",
       "    </tr>\n",
       "    <tr>\n",
       "      <th>9</th>\n",
       "      <td>Acer Liquid Z530</td>\n",
       "      <td>8.981307e+05</td>\n",
       "    </tr>\n",
       "  </tbody>\n",
       "</table>\n",
       "</div>"
      ],
      "text/plain": [
       "                        Handset Type   Average TCP\n",
       "0         A-Link Telecom I. Cubot A5  2.156957e+07\n",
       "1  A-Link Telecom I. Cubot Note Plus  6.162130e+05\n",
       "2     A-Link Telecom I. Cubot Note S  2.087717e+07\n",
       "3       A-Link Telecom I. Cubot Nova  1.371700e+05\n",
       "4      A-Link Telecom I. Cubot Power  8.041000e+03\n",
       "5         A-Link Telecom I. Cubot R9  3.099900e+04\n",
       "6   A-Link Telecom I. Cubot X18 Plus  3.451810e+06\n",
       "7                   Acer Liquid M220  2.156957e+07\n",
       "8                   Acer Liquid Z220  1.743870e+05\n",
       "9                   Acer Liquid Z530  8.981307e+05"
      ]
     },
     "execution_count": 49,
     "metadata": {},
     "output_type": "execute_result"
    }
   ],
   "source": [
    "# average tcp retransmission for each Handset type\n",
    "Average_thr = df_expNew.groupby('Handset Type')['Average TCP'].sum()\n",
    "avg_thr=Average_thr.to_frame().head(10)\n",
    "avg_thr.reset_index()"
   ]
  },
  {
   "cell_type": "markdown",
   "metadata": {},
   "source": [
    "# From this, we can infer that the following three phones deploy the best TCP retransmission mechanism, which inturn means that end-to-end data transfer is least lost in this handsets.\n",
    "### ------------------------------------------------------------------------------------------------------------------------------------------------------------\n",
    "* 1. A-Link Telecom I. Cubot A5\n",
    "* 2. A-Link Telecom I. Cubot Note Plus\n",
    "* 3. A-Link Telecom I. Cubot Note S\n",
    "\n",
    "### -------------------------------------------------------------------------------------------------------------------------------------------------------------"
   ]
  },
  {
   "cell_type": "markdown",
   "metadata": {},
   "source": [
    "### So Average throughput and TCP retransmission mechanism are highly related."
   ]
  },
  {
   "cell_type": "markdown",
   "metadata": {},
   "source": [
    "# ==>K-means"
   ]
  },
  {
   "cell_type": "markdown",
   "metadata": {},
   "source": [
    "## Standardize data\n",
    "### *This is done to make the columns ready for clustering and the different results were saved to csv files. This files are later used to analyze user satisfaction."
   ]
  },
  {
   "cell_type": "code",
   "execution_count": 50,
   "metadata": {},
   "outputs": [],
   "source": [
    "standardized_df = pd.DataFrame(df_expNew['Average TCP'])\n",
    "std_column_values = standardized_df.values\n",
    "sta = StandardScaler()\n",
    "std_data = sta.fit_transform(std_column_values)\n",
    "df_expNew['Average TCP'] = std_data"
   ]
  },
  {
   "cell_type": "code",
   "execution_count": 51,
   "metadata": {},
   "outputs": [],
   "source": [
    "standardized_df = pd.DataFrame(df_expNew['Average throughput'])\n",
    "std_column_values = standardized_df.values\n",
    "sta = StandardScaler()\n",
    "std_data = sta.fit_transform(std_column_values)\n",
    "df_expNew['Average throughput'] = std_data"
   ]
  },
  {
   "cell_type": "code",
   "execution_count": 52,
   "metadata": {},
   "outputs": [],
   "source": [
    "standardized_df = pd.DataFrame(df_expNew['Average RTT'])\n",
    "std_column_values = standardized_df.values\n",
    "sta = StandardScaler()\n",
    "std_data = sta.fit_transform(std_column_values)\n",
    "df_expNew['Average RTT'] = std_data"
   ]
  },
  {
   "cell_type": "code",
   "execution_count": 57,
   "metadata": {},
   "outputs": [],
   "source": [
    "df_expNew2 = df_expNew[['MSISDN/Number', 'Average TCP', 'Average throughput', 'Average RTT']]\n"
   ]
  },
  {
   "cell_type": "code",
   "execution_count": 58,
   "metadata": {},
   "outputs": [
    {
     "data": {
      "text/html": [
       "<div>\n",
       "<style scoped>\n",
       "    .dataframe tbody tr th:only-of-type {\n",
       "        vertical-align: middle;\n",
       "    }\n",
       "\n",
       "    .dataframe tbody tr th {\n",
       "        vertical-align: top;\n",
       "    }\n",
       "\n",
       "    .dataframe thead th {\n",
       "        text-align: right;\n",
       "    }\n",
       "</style>\n",
       "<table border=\"1\" class=\"dataframe\">\n",
       "  <thead>\n",
       "    <tr style=\"text-align: right;\">\n",
       "      <th></th>\n",
       "      <th>MSISDN/Number</th>\n",
       "      <th>Average TCP</th>\n",
       "      <th>Average throughput</th>\n",
       "      <th>Average RTT</th>\n",
       "    </tr>\n",
       "  </thead>\n",
       "  <tbody>\n",
       "    <tr>\n",
       "      <th>120876</th>\n",
       "      <td>3.366117e+10</td>\n",
       "      <td>-1.357519</td>\n",
       "      <td>15.220434</td>\n",
       "      <td>0.510533</td>\n",
       "    </tr>\n",
       "    <tr>\n",
       "      <th>141250</th>\n",
       "      <td>3.369817e+10</td>\n",
       "      <td>0.711986</td>\n",
       "      <td>11.928930</td>\n",
       "      <td>-0.596697</td>\n",
       "    </tr>\n",
       "    <tr>\n",
       "      <th>143670</th>\n",
       "      <td>3.367251e+10</td>\n",
       "      <td>-1.480467</td>\n",
       "      <td>11.918292</td>\n",
       "      <td>-0.714487</td>\n",
       "    </tr>\n",
       "    <tr>\n",
       "      <th>149616</th>\n",
       "      <td>3.365169e+10</td>\n",
       "      <td>-1.396600</td>\n",
       "      <td>10.960414</td>\n",
       "      <td>-0.855836</td>\n",
       "    </tr>\n",
       "    <tr>\n",
       "      <th>92177</th>\n",
       "      <td>3.366856e+10</td>\n",
       "      <td>0.692157</td>\n",
       "      <td>10.681835</td>\n",
       "      <td>-0.596697</td>\n",
       "    </tr>\n",
       "  </tbody>\n",
       "</table>\n",
       "</div>"
      ],
      "text/plain": [
       "        MSISDN/Number  Average TCP  Average throughput  Average RTT\n",
       "120876   3.366117e+10    -1.357519           15.220434     0.510533\n",
       "141250   3.369817e+10     0.711986           11.928930    -0.596697\n",
       "143670   3.367251e+10    -1.480467           11.918292    -0.714487\n",
       "149616   3.365169e+10    -1.396600           10.960414    -0.855836\n",
       "92177    3.366856e+10     0.692157           10.681835    -0.596697"
      ]
     },
     "execution_count": 58,
     "metadata": {},
     "output_type": "execute_result"
    }
   ],
   "source": [
    "df_expNew2.head()"
   ]
  },
  {
   "cell_type": "code",
   "execution_count": 59,
   "metadata": {},
   "outputs": [],
   "source": [
    "df_expNew2.index = df_expNew2['MSISDN/Number']\n",
    "df_expNew2 = df_expNew2.iloc[:,1:4]"
   ]
  },
  {
   "cell_type": "code",
   "execution_count": 60,
   "metadata": {},
   "outputs": [
    {
     "data": {
      "text/html": [
       "<div>\n",
       "<style scoped>\n",
       "    .dataframe tbody tr th:only-of-type {\n",
       "        vertical-align: middle;\n",
       "    }\n",
       "\n",
       "    .dataframe tbody tr th {\n",
       "        vertical-align: top;\n",
       "    }\n",
       "\n",
       "    .dataframe thead th {\n",
       "        text-align: right;\n",
       "    }\n",
       "</style>\n",
       "<table border=\"1\" class=\"dataframe\">\n",
       "  <thead>\n",
       "    <tr style=\"text-align: right;\">\n",
       "      <th></th>\n",
       "      <th>Average TCP</th>\n",
       "      <th>Average throughput</th>\n",
       "      <th>Average RTT</th>\n",
       "    </tr>\n",
       "    <tr>\n",
       "      <th>MSISDN/Number</th>\n",
       "      <th></th>\n",
       "      <th></th>\n",
       "      <th></th>\n",
       "    </tr>\n",
       "  </thead>\n",
       "  <tbody>\n",
       "    <tr>\n",
       "      <th>3.366117e+10</th>\n",
       "      <td>-1.357519</td>\n",
       "      <td>15.220434</td>\n",
       "      <td>0.510533</td>\n",
       "    </tr>\n",
       "    <tr>\n",
       "      <th>3.369817e+10</th>\n",
       "      <td>0.711986</td>\n",
       "      <td>11.928930</td>\n",
       "      <td>-0.596697</td>\n",
       "    </tr>\n",
       "    <tr>\n",
       "      <th>3.367251e+10</th>\n",
       "      <td>-1.480467</td>\n",
       "      <td>11.918292</td>\n",
       "      <td>-0.714487</td>\n",
       "    </tr>\n",
       "    <tr>\n",
       "      <th>3.365169e+10</th>\n",
       "      <td>-1.396600</td>\n",
       "      <td>10.960414</td>\n",
       "      <td>-0.855836</td>\n",
       "    </tr>\n",
       "    <tr>\n",
       "      <th>3.366856e+10</th>\n",
       "      <td>0.692157</td>\n",
       "      <td>10.681835</td>\n",
       "      <td>-0.596697</td>\n",
       "    </tr>\n",
       "  </tbody>\n",
       "</table>\n",
       "</div>"
      ],
      "text/plain": [
       "               Average TCP  Average throughput  Average RTT\n",
       "MSISDN/Number                                              \n",
       "3.366117e+10     -1.357519           15.220434     0.510533\n",
       "3.369817e+10      0.711986           11.928930    -0.596697\n",
       "3.367251e+10     -1.480467           11.918292    -0.714487\n",
       "3.365169e+10     -1.396600           10.960414    -0.855836\n",
       "3.366856e+10      0.692157           10.681835    -0.596697"
      ]
     },
     "execution_count": 60,
     "metadata": {},
     "output_type": "execute_result"
    }
   ],
   "source": [
    "df_expNew2.head()"
   ]
  },
  {
   "cell_type": "code",
   "execution_count": 61,
   "metadata": {},
   "outputs": [],
   "source": [
    "kmeans = KMeans(n_clusters = 3, init='k-means++')\n",
    "kmeans.fit(df_expNew2)\n",
    "label = kmeans.predict(df_expNew2)"
   ]
  },
  {
   "cell_type": "code",
   "execution_count": 62,
   "metadata": {},
   "outputs": [],
   "source": [
    "df_kclus = pd.DataFrame(df_expNew2)\n",
    "df_kclus['clusters'] = label"
   ]
  },
  {
   "cell_type": "code",
   "execution_count": 63,
   "metadata": {},
   "outputs": [],
   "source": [
    "centroids = kmeans.cluster_centers_"
   ]
  },
  {
   "cell_type": "code",
   "execution_count": 64,
   "metadata": {},
   "outputs": [],
   "source": [
    "u_labels = np.unique(label)"
   ]
  },
  {
   "cell_type": "code",
   "execution_count": 65,
   "metadata": {},
   "outputs": [
    {
     "data": {
      "image/png": "[encoded data removed]",
      "text/plain": [
       "<Figure size 432x288 with 1 Axes>"
      ]
     },
     "metadata": {
      "needs_background": "light"
     },
     "output_type": "display_data"
    }
   ],
   "source": [
    "# plot\n",
    "plt.title('User K-Means of 3 Groups of Standardized Data')\n",
    "for i in u_labels:\n",
    "    plt.scatter(df_kclus[label == i].iloc[:,0] , df_kclus[label == i].iloc[:,1], label = i)\n",
    "plt.scatter(centroids[:,0] , centroids[:,1] , s = 20, color = 'black')\n",
    "plt.legend()\n",
    "plt.show()"
   ]
  },
  {
   "cell_type": "code",
   "execution_count": 66,
   "metadata": {},
   "outputs": [
    {
     "data": {
      "text/plain": [
       "KMeans(n_clusters=3)"
      ]
     },
     "execution_count": 66,
     "metadata": {},
     "output_type": "execute_result"
    }
   ],
   "source": [
    "#Now we create a kmeans function and fit it on the data:\n",
    "# defining the kmeans function with initialization as k-means++\n",
    "kmeans = KMeans(n_clusters=3, init='k-means++')\n",
    "\n",
    "# fitting the k means algorithm on scaled data\n",
    "kmeans.fit(df_expNew2)"
   ]
  },
  {
   "cell_type": "code",
   "execution_count": 67,
   "metadata": {},
   "outputs": [
    {
     "data": {
      "text/plain": [
       "162101.54758289858"
      ]
     },
     "execution_count": 67,
     "metadata": {},
     "output_type": "execute_result"
    }
   ],
   "source": [
    "# inertia on the fitted data\n",
    "kmeans.inertia_"
   ]
  },
  {
   "cell_type": "code",
   "execution_count": 68,
   "metadata": {},
   "outputs": [],
   "source": [
    "# fitting multiple k-means algorithms and storing the values in an empty list\n",
    "SSE = []\n",
    "for cluster in range(1,20):\n",
    "    kmeans = KMeans(n_clusters = cluster, init='k-means++')\n",
    "    kmeans.fit(df_expNew2)\n",
    "    SSE.append(kmeans.inertia_)"
   ]
  },
  {
   "cell_type": "code",
   "execution_count": 69,
   "metadata": {},
   "outputs": [],
   "source": [
    "centroids_df = pd.DataFrame(centroids, columns=['Average RTT','Average TCP','Average throughput'])\n",
    "centroids_df.to_csv('../data/centro_experience.csv')"
   ]
  },
  {
   "cell_type": "code",
   "execution_count": 70,
   "metadata": {},
   "outputs": [],
   "source": [
    "df_expNew2.to_csv('../data/std_experience.csv')"
   ]
  },
  {
   "cell_type": "code",
   "execution_count": 71,
   "metadata": {},
   "outputs": [
    {
     "data": {
      "text/plain": [
       "Text(0, 0.5, 'Inertia')"
      ]
     },
     "execution_count": 71,
     "metadata": {},
     "output_type": "execute_result"
    },
    {
     "data": {
      "image/png": "[encoded data removed]",
      "text/plain": [
       "<Figure size 864x432 with 1 Axes>"
      ]
     },
     "metadata": {
      "needs_background": "light"
     },
     "output_type": "display_data"
    }
   ],
   "source": [
    "# converting the results into a dataframe and plotting them\n",
    "\n",
    "frame = pd.DataFrame({'Cluster':range(1,20), 'SSE':SSE})\n",
    "plt.figure(figsize=(12,6))\n",
    "plt.plot(frame['Cluster'], frame['SSE'], marker='o')\n",
    "plt.xlabel('Number of clusters')\n",
    "plt.ylabel('Inertia')"
   ]
  },
  {
   "cell_type": "code",
   "execution_count": null,
   "metadata": {},
   "outputs": [],
   "source": []
  }
 ],
 "metadata": {
  "kernelspec": {
   "display_name": "Python 3",
   "language": "python",
   "name": "python3"
  },
  "language_info": {
   "codemirror_mode": {
    "name": "ipython",
    "version": 3
   },
   "file_extension": ".py",
   "mimetype": "text/x-python",
   "name": "python",
   "nbconvert_exporter": "python",
   "pygments_lexer": "ipython3",
   "version": "3.8.3"
  }
 },
 "nbformat": 4,
 "nbformat_minor": 4
}
